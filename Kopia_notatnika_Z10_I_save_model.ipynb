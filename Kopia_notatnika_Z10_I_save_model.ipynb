{
  "cells": [
    {
      "cell_type": "markdown",
      "metadata": {
        "id": "view-in-github",
        "colab_type": "text"
      },
      "source": [
        "<a href=\"https://colab.research.google.com/github/MientusJJ/Python-Exercises/blob/main/Kopia_notatnika_Z10_I_save_model.ipynb\" target=\"_parent\"><img src=\"https://colab.research.google.com/assets/colab-badge.svg\" alt=\"Open In Colab\"/></a>"
      ]
    },
    {
      "cell_type": "code",
      "execution_count": null,
      "metadata": {
        "id": "ID7XXJE9MmIM",
        "outputId": "a94b4653-5b79-4801-bfec-a477bd9102ff",
        "colab": {
          "base_uri": "https://localhost:8080/"
        }
      },
      "outputs": [
        {
          "output_type": "stream",
          "name": "stdout",
          "text": [
            "2.12.0\n",
            "2.12.0\n"
          ]
        }
      ],
      "source": [
        "import tensorflow as tf\n",
        "from tensorflow import keras\n",
        "print(tf.__version__)\n",
        "\n",
        "print(keras.__version__)"
      ]
    },
    {
      "cell_type": "code",
      "execution_count": null,
      "metadata": {
        "id": "XX5wvWbxMmIO"
      },
      "outputs": [],
      "source": [
        "import numpy as np\n",
        "import pandas as pd\n",
        "import matplotlib.pyplot as plt\n",
        "import os"
      ]
    },
    {
      "cell_type": "code",
      "execution_count": null,
      "metadata": {
        "id": "nUN0OzJJMmIO",
        "outputId": "08dabe39-6fa5-48cd-c2e3-582fa300a9ff",
        "colab": {
          "base_uri": "https://localhost:8080/",
          "height": 436
        }
      },
      "outputs": [
        {
          "output_type": "stream",
          "name": "stderr",
          "text": [
            "<ipython-input-4-b8b4c014ef00>:6: ParserWarning: Falling back to the 'python' engine because the 'c' engine does not support regex separators (separators > 1 char and different from '\\s+' are interpreted as regex); you can avoid this warning by specifying engine='python'.\n",
            "  train_set = pd.read_csv('adult.data', sep=\", \",header = None)\n"
          ]
        },
        {
          "output_type": "error",
          "ename": "FileNotFoundError",
          "evalue": "ignored",
          "traceback": [
            "\u001b[0;31m---------------------------------------------------------------------------\u001b[0m",
            "\u001b[0;31mFileNotFoundError\u001b[0m                         Traceback (most recent call last)",
            "\u001b[0;32m<ipython-input-4-b8b4c014ef00>\u001b[0m in \u001b[0;36m<cell line: 6>\u001b[0;34m()\u001b[0m\n\u001b[1;32m      4\u001b[0m \u001b[0;32mimport\u001b[0m \u001b[0mpandas\u001b[0m \u001b[0;32mas\u001b[0m \u001b[0mpd\u001b[0m\u001b[0;34m\u001b[0m\u001b[0;34m\u001b[0m\u001b[0m\n\u001b[1;32m      5\u001b[0m \u001b[0;34m\u001b[0m\u001b[0m\n\u001b[0;32m----> 6\u001b[0;31m \u001b[0mtrain_set\u001b[0m \u001b[0;34m=\u001b[0m \u001b[0mpd\u001b[0m\u001b[0;34m.\u001b[0m\u001b[0mread_csv\u001b[0m\u001b[0;34m(\u001b[0m\u001b[0;34m'adult.data'\u001b[0m\u001b[0;34m,\u001b[0m \u001b[0msep\u001b[0m\u001b[0;34m=\u001b[0m\u001b[0;34m\", \"\u001b[0m\u001b[0;34m,\u001b[0m\u001b[0mheader\u001b[0m \u001b[0;34m=\u001b[0m \u001b[0;32mNone\u001b[0m\u001b[0;34m)\u001b[0m\u001b[0;34m\u001b[0m\u001b[0;34m\u001b[0m\u001b[0m\n\u001b[0m\u001b[1;32m      7\u001b[0m \u001b[0mtest_set\u001b[0m \u001b[0;34m=\u001b[0m \u001b[0mpd\u001b[0m\u001b[0;34m.\u001b[0m\u001b[0mread_csv\u001b[0m\u001b[0;34m(\u001b[0m\u001b[0;34m'adult.test'\u001b[0m\u001b[0;34m,\u001b[0m \u001b[0msep\u001b[0m\u001b[0;34m=\u001b[0m\u001b[0;34m\", \"\u001b[0m\u001b[0;34m,\u001b[0m\u001b[0mskiprows\u001b[0m \u001b[0;34m=\u001b[0m \u001b[0;36m1\u001b[0m\u001b[0;34m,\u001b[0m \u001b[0mheader\u001b[0m \u001b[0;34m=\u001b[0m \u001b[0;32mNone\u001b[0m\u001b[0;34m)\u001b[0m \u001b[0;31m# Make sure to skip a row for the test set\u001b[0m\u001b[0;34m\u001b[0m\u001b[0;34m\u001b[0m\u001b[0m\n\u001b[1;32m      8\u001b[0m \u001b[0;34m\u001b[0m\u001b[0m\n",
            "\u001b[0;32m/usr/local/lib/python3.10/dist-packages/pandas/util/_decorators.py\u001b[0m in \u001b[0;36mwrapper\u001b[0;34m(*args, **kwargs)\u001b[0m\n\u001b[1;32m    209\u001b[0m                 \u001b[0;32melse\u001b[0m\u001b[0;34m:\u001b[0m\u001b[0;34m\u001b[0m\u001b[0;34m\u001b[0m\u001b[0m\n\u001b[1;32m    210\u001b[0m                     \u001b[0mkwargs\u001b[0m\u001b[0;34m[\u001b[0m\u001b[0mnew_arg_name\u001b[0m\u001b[0;34m]\u001b[0m \u001b[0;34m=\u001b[0m \u001b[0mnew_arg_value\u001b[0m\u001b[0;34m\u001b[0m\u001b[0;34m\u001b[0m\u001b[0m\n\u001b[0;32m--> 211\u001b[0;31m             \u001b[0;32mreturn\u001b[0m \u001b[0mfunc\u001b[0m\u001b[0;34m(\u001b[0m\u001b[0;34m*\u001b[0m\u001b[0margs\u001b[0m\u001b[0;34m,\u001b[0m \u001b[0;34m**\u001b[0m\u001b[0mkwargs\u001b[0m\u001b[0;34m)\u001b[0m\u001b[0;34m\u001b[0m\u001b[0;34m\u001b[0m\u001b[0m\n\u001b[0m\u001b[1;32m    212\u001b[0m \u001b[0;34m\u001b[0m\u001b[0m\n\u001b[1;32m    213\u001b[0m         \u001b[0;32mreturn\u001b[0m \u001b[0mcast\u001b[0m\u001b[0;34m(\u001b[0m\u001b[0mF\u001b[0m\u001b[0;34m,\u001b[0m \u001b[0mwrapper\u001b[0m\u001b[0;34m)\u001b[0m\u001b[0;34m\u001b[0m\u001b[0;34m\u001b[0m\u001b[0m\n",
            "\u001b[0;32m/usr/local/lib/python3.10/dist-packages/pandas/util/_decorators.py\u001b[0m in \u001b[0;36mwrapper\u001b[0;34m(*args, **kwargs)\u001b[0m\n\u001b[1;32m    329\u001b[0m                     \u001b[0mstacklevel\u001b[0m\u001b[0;34m=\u001b[0m\u001b[0mfind_stack_level\u001b[0m\u001b[0;34m(\u001b[0m\u001b[0;34m)\u001b[0m\u001b[0;34m,\u001b[0m\u001b[0;34m\u001b[0m\u001b[0;34m\u001b[0m\u001b[0m\n\u001b[1;32m    330\u001b[0m                 )\n\u001b[0;32m--> 331\u001b[0;31m             \u001b[0;32mreturn\u001b[0m \u001b[0mfunc\u001b[0m\u001b[0;34m(\u001b[0m\u001b[0;34m*\u001b[0m\u001b[0margs\u001b[0m\u001b[0;34m,\u001b[0m \u001b[0;34m**\u001b[0m\u001b[0mkwargs\u001b[0m\u001b[0;34m)\u001b[0m\u001b[0;34m\u001b[0m\u001b[0;34m\u001b[0m\u001b[0m\n\u001b[0m\u001b[1;32m    332\u001b[0m \u001b[0;34m\u001b[0m\u001b[0m\n\u001b[1;32m    333\u001b[0m         \u001b[0;31m# error: \"Callable[[VarArg(Any), KwArg(Any)], Any]\" has no\u001b[0m\u001b[0;34m\u001b[0m\u001b[0;34m\u001b[0m\u001b[0m\n",
            "\u001b[0;32m/usr/local/lib/python3.10/dist-packages/pandas/io/parsers/readers.py\u001b[0m in \u001b[0;36mread_csv\u001b[0;34m(filepath_or_buffer, sep, delimiter, header, names, index_col, usecols, squeeze, prefix, mangle_dupe_cols, dtype, engine, converters, true_values, false_values, skipinitialspace, skiprows, skipfooter, nrows, na_values, keep_default_na, na_filter, verbose, skip_blank_lines, parse_dates, infer_datetime_format, keep_date_col, date_parser, dayfirst, cache_dates, iterator, chunksize, compression, thousands, decimal, lineterminator, quotechar, quoting, doublequote, escapechar, comment, encoding, encoding_errors, dialect, error_bad_lines, warn_bad_lines, on_bad_lines, delim_whitespace, low_memory, memory_map, float_precision, storage_options)\u001b[0m\n\u001b[1;32m    948\u001b[0m     \u001b[0mkwds\u001b[0m\u001b[0;34m.\u001b[0m\u001b[0mupdate\u001b[0m\u001b[0;34m(\u001b[0m\u001b[0mkwds_defaults\u001b[0m\u001b[0;34m)\u001b[0m\u001b[0;34m\u001b[0m\u001b[0;34m\u001b[0m\u001b[0m\n\u001b[1;32m    949\u001b[0m \u001b[0;34m\u001b[0m\u001b[0m\n\u001b[0;32m--> 950\u001b[0;31m     \u001b[0;32mreturn\u001b[0m \u001b[0m_read\u001b[0m\u001b[0;34m(\u001b[0m\u001b[0mfilepath_or_buffer\u001b[0m\u001b[0;34m,\u001b[0m \u001b[0mkwds\u001b[0m\u001b[0;34m)\u001b[0m\u001b[0;34m\u001b[0m\u001b[0;34m\u001b[0m\u001b[0m\n\u001b[0m\u001b[1;32m    951\u001b[0m \u001b[0;34m\u001b[0m\u001b[0m\n\u001b[1;32m    952\u001b[0m \u001b[0;34m\u001b[0m\u001b[0m\n",
            "\u001b[0;32m/usr/local/lib/python3.10/dist-packages/pandas/io/parsers/readers.py\u001b[0m in \u001b[0;36m_read\u001b[0;34m(filepath_or_buffer, kwds)\u001b[0m\n\u001b[1;32m    603\u001b[0m \u001b[0;34m\u001b[0m\u001b[0m\n\u001b[1;32m    604\u001b[0m     \u001b[0;31m# Create the parser.\u001b[0m\u001b[0;34m\u001b[0m\u001b[0;34m\u001b[0m\u001b[0m\n\u001b[0;32m--> 605\u001b[0;31m     \u001b[0mparser\u001b[0m \u001b[0;34m=\u001b[0m \u001b[0mTextFileReader\u001b[0m\u001b[0;34m(\u001b[0m\u001b[0mfilepath_or_buffer\u001b[0m\u001b[0;34m,\u001b[0m \u001b[0;34m**\u001b[0m\u001b[0mkwds\u001b[0m\u001b[0;34m)\u001b[0m\u001b[0;34m\u001b[0m\u001b[0;34m\u001b[0m\u001b[0m\n\u001b[0m\u001b[1;32m    606\u001b[0m \u001b[0;34m\u001b[0m\u001b[0m\n\u001b[1;32m    607\u001b[0m     \u001b[0;32mif\u001b[0m \u001b[0mchunksize\u001b[0m \u001b[0;32mor\u001b[0m \u001b[0miterator\u001b[0m\u001b[0;34m:\u001b[0m\u001b[0;34m\u001b[0m\u001b[0;34m\u001b[0m\u001b[0m\n",
            "\u001b[0;32m/usr/local/lib/python3.10/dist-packages/pandas/io/parsers/readers.py\u001b[0m in \u001b[0;36m__init__\u001b[0;34m(self, f, engine, **kwds)\u001b[0m\n\u001b[1;32m   1440\u001b[0m \u001b[0;34m\u001b[0m\u001b[0m\n\u001b[1;32m   1441\u001b[0m         \u001b[0mself\u001b[0m\u001b[0;34m.\u001b[0m\u001b[0mhandles\u001b[0m\u001b[0;34m:\u001b[0m \u001b[0mIOHandles\u001b[0m \u001b[0;34m|\u001b[0m \u001b[0;32mNone\u001b[0m \u001b[0;34m=\u001b[0m \u001b[0;32mNone\u001b[0m\u001b[0;34m\u001b[0m\u001b[0;34m\u001b[0m\u001b[0m\n\u001b[0;32m-> 1442\u001b[0;31m         \u001b[0mself\u001b[0m\u001b[0;34m.\u001b[0m\u001b[0m_engine\u001b[0m \u001b[0;34m=\u001b[0m \u001b[0mself\u001b[0m\u001b[0;34m.\u001b[0m\u001b[0m_make_engine\u001b[0m\u001b[0;34m(\u001b[0m\u001b[0mf\u001b[0m\u001b[0;34m,\u001b[0m \u001b[0mself\u001b[0m\u001b[0;34m.\u001b[0m\u001b[0mengine\u001b[0m\u001b[0;34m)\u001b[0m\u001b[0;34m\u001b[0m\u001b[0;34m\u001b[0m\u001b[0m\n\u001b[0m\u001b[1;32m   1443\u001b[0m \u001b[0;34m\u001b[0m\u001b[0m\n\u001b[1;32m   1444\u001b[0m     \u001b[0;32mdef\u001b[0m \u001b[0mclose\u001b[0m\u001b[0;34m(\u001b[0m\u001b[0mself\u001b[0m\u001b[0;34m)\u001b[0m \u001b[0;34m->\u001b[0m \u001b[0;32mNone\u001b[0m\u001b[0;34m:\u001b[0m\u001b[0;34m\u001b[0m\u001b[0;34m\u001b[0m\u001b[0m\n",
            "\u001b[0;32m/usr/local/lib/python3.10/dist-packages/pandas/io/parsers/readers.py\u001b[0m in \u001b[0;36m_make_engine\u001b[0;34m(self, f, engine)\u001b[0m\n\u001b[1;32m   1733\u001b[0m                 \u001b[0;32mif\u001b[0m \u001b[0;34m\"b\"\u001b[0m \u001b[0;32mnot\u001b[0m \u001b[0;32min\u001b[0m \u001b[0mmode\u001b[0m\u001b[0;34m:\u001b[0m\u001b[0;34m\u001b[0m\u001b[0;34m\u001b[0m\u001b[0m\n\u001b[1;32m   1734\u001b[0m                     \u001b[0mmode\u001b[0m \u001b[0;34m+=\u001b[0m \u001b[0;34m\"b\"\u001b[0m\u001b[0;34m\u001b[0m\u001b[0;34m\u001b[0m\u001b[0m\n\u001b[0;32m-> 1735\u001b[0;31m             self.handles = get_handle(\n\u001b[0m\u001b[1;32m   1736\u001b[0m                 \u001b[0mf\u001b[0m\u001b[0;34m,\u001b[0m\u001b[0;34m\u001b[0m\u001b[0;34m\u001b[0m\u001b[0m\n\u001b[1;32m   1737\u001b[0m                 \u001b[0mmode\u001b[0m\u001b[0;34m,\u001b[0m\u001b[0;34m\u001b[0m\u001b[0;34m\u001b[0m\u001b[0m\n",
            "\u001b[0;32m/usr/local/lib/python3.10/dist-packages/pandas/io/common.py\u001b[0m in \u001b[0;36mget_handle\u001b[0;34m(path_or_buf, mode, encoding, compression, memory_map, is_text, errors, storage_options)\u001b[0m\n\u001b[1;32m    854\u001b[0m         \u001b[0;32mif\u001b[0m \u001b[0mioargs\u001b[0m\u001b[0;34m.\u001b[0m\u001b[0mencoding\u001b[0m \u001b[0;32mand\u001b[0m \u001b[0;34m\"b\"\u001b[0m \u001b[0;32mnot\u001b[0m \u001b[0;32min\u001b[0m \u001b[0mioargs\u001b[0m\u001b[0;34m.\u001b[0m\u001b[0mmode\u001b[0m\u001b[0;34m:\u001b[0m\u001b[0;34m\u001b[0m\u001b[0;34m\u001b[0m\u001b[0m\n\u001b[1;32m    855\u001b[0m             \u001b[0;31m# Encoding\u001b[0m\u001b[0;34m\u001b[0m\u001b[0;34m\u001b[0m\u001b[0m\n\u001b[0;32m--> 856\u001b[0;31m             handle = open(\n\u001b[0m\u001b[1;32m    857\u001b[0m                 \u001b[0mhandle\u001b[0m\u001b[0;34m,\u001b[0m\u001b[0;34m\u001b[0m\u001b[0;34m\u001b[0m\u001b[0m\n\u001b[1;32m    858\u001b[0m                 \u001b[0mioargs\u001b[0m\u001b[0;34m.\u001b[0m\u001b[0mmode\u001b[0m\u001b[0;34m,\u001b[0m\u001b[0;34m\u001b[0m\u001b[0;34m\u001b[0m\u001b[0m\n",
            "\u001b[0;31mFileNotFoundError\u001b[0m: [Errno 2] No such file or directory: 'adult.data'"
          ]
        }
      ],
      "source": [
        "# Wczytaj dane treningowe i testowe\n",
        "import numpy as np\n",
        "import matplotlib.pyplot as plt\n",
        "import pandas as pd\n",
        "\n",
        "train_set = pd.read_csv('adult.data', sep=\", \",header = None)\n",
        "test_set = pd.read_csv('adult.test', sep=\", \",skiprows = 1, header = None) # Make sure to skip a row for the test set\n",
        "\n",
        "col_labels = ['age', 'workclass', 'fnlwgt', 'education', 'education_num', 'marital_status', 'occupation', \n",
        "              'relationship', 'race', 'sex', 'capital_gain', 'capital_loss', 'hours_per_week', 'native_country',\n",
        "             'wage_class']\n",
        "train_set.columns = col_labels\n",
        "test_set.columns = col_labels\n",
        "\n",
        "train = train_set.replace('?', np.nan).dropna()\n",
        "test = test_set.replace('?', np.nan).dropna()\n",
        "\n",
        "train_set.head()\n"
      ]
    },
    {
      "cell_type": "markdown",
      "metadata": {
        "id": "Jb-HogWhMmIP"
      },
      "source": [
        "# Zad.\n",
        "Zróbmy szybki preprocesing"
      ]
    },
    {
      "cell_type": "code",
      "execution_count": null,
      "metadata": {
        "id": "u4FRWB38MmIR"
      },
      "outputs": [],
      "source": [
        "dataset = pd.concat([train,test])\n",
        "\n",
        "dataset['wage_class'] = dataset.wage_class.replace({'<=50K.': 0,'<=50K':0, '>50K.':1, '>50K':1})\n",
        "\n",
        "dataset.drop([\"fnlwgt\"],axis=1,inplace=True)\n",
        "\n",
        "dataset.drop([\"education\"],axis=1,inplace=True)\n",
        "\n",
        "x = dataset.groupby('native_country')[\"wage_class\"].mean()\n",
        "\n",
        "d = dict(pd.cut(x[x.index!=\" United-States\"],5,labels=range(5)))\n",
        "\n",
        "dataset['native_country'] = dataset['native_country'].replace(d)\n",
        "\n",
        "dataset = pd.get_dummies(dataset,drop_first=True)\n",
        "\n",
        "train = dataset.iloc[:train.shape[0]]\n",
        "test = dataset.iloc[train.shape[0]:]\n",
        "\n",
        "X_train = train.drop(\"wage_class\",axis=1)\n",
        "y_train = train.wage_class\n",
        "\n",
        "X_test = test.drop(\"wage_class\",axis=1)\n",
        "y_test = test.wage_class\n"
      ]
    },
    {
      "cell_type": "code",
      "execution_count": null,
      "metadata": {
        "id": "GC5XJsUsMmIS",
        "outputId": "57483f74-fc5a-4748-c816-95718b31cbb4"
      },
      "outputs": [
        {
          "name": "stderr",
          "output_type": "stream",
          "text": [
            "Using TensorFlow backend.\n"
          ]
        }
      ],
      "source": [
        "from keras.callbacks import ModelCheckpoint"
      ]
    },
    {
      "cell_type": "code",
      "execution_count": null,
      "metadata": {
        "id": "ZgpWPHiRMmIS"
      },
      "outputs": [],
      "source": []
    },
    {
      "cell_type": "code",
      "execution_count": null,
      "metadata": {
        "id": "8oPigZ8HMmIT",
        "outputId": "6fed6e80-9ac4-4fb5-8805-a63fa3c3058b"
      },
      "outputs": [
        {
          "name": "stdout",
          "output_type": "stream",
          "text": [
            "Model: \"sequential_2\"\n",
            "_________________________________________________________________\n",
            "Layer (type)                 Output Shape              Param #   \n",
            "=================================================================\n",
            "dense_5 (Dense)              (None, 100)               4200      \n",
            "_________________________________________________________________\n",
            "dense_6 (Dense)              (None, 50)                5050      \n",
            "_________________________________________________________________\n",
            "dense_7 (Dense)              (None, 10)                510       \n",
            "_________________________________________________________________\n",
            "dense_8 (Dense)              (None, 1)                 11        \n",
            "=================================================================\n",
            "Total params: 9,771\n",
            "Trainable params: 9,771\n",
            "Non-trainable params: 0\n",
            "_________________________________________________________________\n"
          ]
        }
      ],
      "source": [
        "from keras.models import Sequential\n",
        "from keras.layers import Dense\n",
        "\n",
        "from keras.callbacks import History\n",
        "\n",
        "history = History()\n",
        "model = Sequential()\n",
        "model.add(Dense(100,activation=\"sigmoid\",input_shape=(X_train.shape[1],)))\n",
        "model.add(Dense(50,activation=\"sigmoid\"))\n",
        "model.add(Dense(10,activation=\"sigmoid\"))\n",
        "model.add(Dense(1,activation=\"sigmoid\"))\n",
        "model.summary()"
      ]
    },
    {
      "cell_type": "code",
      "execution_count": null,
      "metadata": {
        "id": "Nn_VRcqpMmIU",
        "outputId": "2cd3414b-84ac-4819-efe5-6aefeb68437b"
      },
      "outputs": [
        {
          "name": "stdout",
          "output_type": "stream",
          "text": [
            "WARNING:tensorflow:From C:\\ProgramData\\Anaconda3\\lib\\site-packages\\tensorflow_core\\python\\ops\\nn_impl.py:183: where (from tensorflow.python.ops.array_ops) is deprecated and will be removed in a future version.\n",
            "Instructions for updating:\n",
            "Use tf.where in 2.0, which has the same broadcast rule as np.where\n"
          ]
        }
      ],
      "source": [
        "save_best_model = ModelCheckpoint(\"wagi_best.h5py\",save_best_only=True)\n",
        "model.compile(loss=\"binary_crossentropy\",optimizer=\"Adam\", metrics=[\"accuracy\"])"
      ]
    },
    {
      "cell_type": "code",
      "execution_count": null,
      "metadata": {
        "id": "Km1umiJNMmIV",
        "outputId": "9b4ec0b0-a7a4-4d33-aa0d-e6fe417dab76"
      },
      "outputs": [
        {
          "name": "stdout",
          "output_type": "stream",
          "text": [
            "Train on 30162 samples, validate on 15060 samples\n",
            "Epoch 1/100\n",
            "30162/30162 [==============================] - 2s 52us/step - loss: 0.4761 - accuracy: 0.7761 - val_loss: 0.3871 - val_accuracy: 0.8108\n",
            "Epoch 2/100\n",
            "30162/30162 [==============================] - 1s 47us/step - loss: 0.3862 - accuracy: 0.8083 - val_loss: 0.3812 - val_accuracy: 0.8055\n",
            "Epoch 3/100\n",
            "30162/30162 [==============================] - 2s 51us/step - loss: 0.3754 - accuracy: 0.8134 - val_loss: 0.3770 - val_accuracy: 0.8155\n",
            "Epoch 4/100\n",
            "30162/30162 [==============================] - 1s 48us/step - loss: 0.3718 - accuracy: 0.8134 - val_loss: 0.3654 - val_accuracy: 0.8177\n",
            "Epoch 5/100\n",
            "30162/30162 [==============================] - 1s 48us/step - loss: 0.3723 - accuracy: 0.8116 - val_loss: 0.3715 - val_accuracy: 0.8168\n",
            "Epoch 6/100\n",
            "30162/30162 [==============================] - 1s 49us/step - loss: 0.3708 - accuracy: 0.8133 - val_loss: 0.3650 - val_accuracy: 0.8159\n",
            "Epoch 7/100\n",
            "30162/30162 [==============================] - 1s 49us/step - loss: 0.3698 - accuracy: 0.8127 - val_loss: 0.3939 - val_accuracy: 0.8047\n",
            "Epoch 8/100\n",
            "30162/30162 [==============================] - 1s 48us/step - loss: 0.3702 - accuracy: 0.8150 - val_loss: 0.3895 - val_accuracy: 0.8065\n",
            "Epoch 9/100\n",
            "30162/30162 [==============================] - 1s 47us/step - loss: 0.3681 - accuracy: 0.8136 - val_loss: 0.3665 - val_accuracy: 0.8112\n",
            "Epoch 10/100\n",
            "30162/30162 [==============================] - 1s 46us/step - loss: 0.3663 - accuracy: 0.8149 - val_loss: 0.3653 - val_accuracy: 0.8153\n",
            "Epoch 11/100\n",
            "30162/30162 [==============================] - 1s 47us/step - loss: 0.3653 - accuracy: 0.8173 - val_loss: 0.3786 - val_accuracy: 0.8158\n",
            "Epoch 12/100\n",
            "30162/30162 [==============================] - 1s 46us/step - loss: 0.3667 - accuracy: 0.8156 - val_loss: 0.3645 - val_accuracy: 0.8162\n",
            "Epoch 13/100\n",
            "30162/30162 [==============================] - 1s 47us/step - loss: 0.3648 - accuracy: 0.8138 - val_loss: 0.3678 - val_accuracy: 0.8117\n",
            "Epoch 14/100\n",
            "30162/30162 [==============================] - 1s 47us/step - loss: 0.3648 - accuracy: 0.8142 - val_loss: 0.3643 - val_accuracy: 0.8137\n",
            "Epoch 15/100\n",
            "30162/30162 [==============================] - 1s 49us/step - loss: 0.3639 - accuracy: 0.8154 - val_loss: 0.3642 - val_accuracy: 0.8183\n",
            "Epoch 16/100\n",
            "30162/30162 [==============================] - 1s 49us/step - loss: 0.3646 - accuracy: 0.8162 - val_loss: 0.3781 - val_accuracy: 0.8106\n",
            "Epoch 17/100\n",
            "30162/30162 [==============================] - 2s 50us/step - loss: 0.3621 - accuracy: 0.8157 - val_loss: 0.3672 - val_accuracy: 0.8165\n",
            "Epoch 18/100\n",
            "30162/30162 [==============================] - 1s 47us/step - loss: 0.3630 - accuracy: 0.8170 - val_loss: 0.3754 - val_accuracy: 0.8054\n",
            "Epoch 19/100\n",
            "30162/30162 [==============================] - 1s 47us/step - loss: 0.3615 - accuracy: 0.8184 - val_loss: 0.3630 - val_accuracy: 0.8195\n",
            "Epoch 20/100\n",
            "30162/30162 [==============================] - 1s 48us/step - loss: 0.3626 - accuracy: 0.8180 - val_loss: 0.3613 - val_accuracy: 0.8187\n",
            "Epoch 21/100\n",
            "30162/30162 [==============================] - 1s 48us/step - loss: 0.3611 - accuracy: 0.8182 - val_loss: 0.3613 - val_accuracy: 0.8177\n",
            "Epoch 22/100\n",
            "30162/30162 [==============================] - 1s 48us/step - loss: 0.3609 - accuracy: 0.8169 - val_loss: 0.3643 - val_accuracy: 0.8146\n",
            "Epoch 23/100\n",
            "30162/30162 [==============================] - 1s 49us/step - loss: 0.3626 - accuracy: 0.8159 - val_loss: 0.3656 - val_accuracy: 0.8151\n",
            "Epoch 24/100\n",
            "30162/30162 [==============================] - 1s 47us/step - loss: 0.3609 - accuracy: 0.8167 - val_loss: 0.3636 - val_accuracy: 0.8175\n",
            "Epoch 25/100\n",
            "30162/30162 [==============================] - 1s 48us/step - loss: 0.3606 - accuracy: 0.8179 - val_loss: 0.3723 - val_accuracy: 0.8150\n",
            "Epoch 26/100\n",
            "30162/30162 [==============================] - 1s 47us/step - loss: 0.3604 - accuracy: 0.8173 - val_loss: 0.3649 - val_accuracy: 0.8144\n",
            "Epoch 27/100\n",
            "30162/30162 [==============================] - 1s 48us/step - loss: 0.3611 - accuracy: 0.8173 - val_loss: 0.3649 - val_accuracy: 0.8139\n",
            "Epoch 28/100\n",
            "30162/30162 [==============================] - 1s 47us/step - loss: 0.3599 - accuracy: 0.8184 - val_loss: 0.3785 - val_accuracy: 0.8116\n",
            "Epoch 29/100\n",
            "30162/30162 [==============================] - 1s 47us/step - loss: 0.3603 - accuracy: 0.8173 - val_loss: 0.3604 - val_accuracy: 0.8181\n",
            "Epoch 30/100\n",
            "30162/30162 [==============================] - 1s 47us/step - loss: 0.3593 - accuracy: 0.8200 - val_loss: 0.3614 - val_accuracy: 0.8187\n",
            "Epoch 31/100\n",
            "30162/30162 [==============================] - 1s 47us/step - loss: 0.3594 - accuracy: 0.8194 - val_loss: 0.3683 - val_accuracy: 0.8118\n",
            "Epoch 32/100\n",
            "30162/30162 [==============================] - 1s 48us/step - loss: 0.3598 - accuracy: 0.8183 - val_loss: 0.3660 - val_accuracy: 0.8189\n",
            "Epoch 33/100\n",
            "30162/30162 [==============================] - 1s 47us/step - loss: 0.3596 - accuracy: 0.8170 - val_loss: 0.3666 - val_accuracy: 0.7942\n",
            "Epoch 34/100\n",
            "30162/30162 [==============================] - 1s 47us/step - loss: 0.3596 - accuracy: 0.8186 - val_loss: 0.3613 - val_accuracy: 0.8204\n",
            "Epoch 35/100\n",
            "30162/30162 [==============================] - 1s 47us/step - loss: 0.3588 - accuracy: 0.8180 - val_loss: 0.3626 - val_accuracy: 0.8148\n",
            "Epoch 36/100\n",
            "30162/30162 [==============================] - 1s 47us/step - loss: 0.3585 - accuracy: 0.8197 - val_loss: 0.3763 - val_accuracy: 0.8155\n",
            "Epoch 37/100\n",
            "30162/30162 [==============================] - 1s 46us/step - loss: 0.3583 - accuracy: 0.8195 - val_loss: 0.3662 - val_accuracy: 0.8109\n",
            "Epoch 38/100\n",
            "30162/30162 [==============================] - 1s 48us/step - loss: 0.3595 - accuracy: 0.8179 - val_loss: 0.3632 - val_accuracy: 0.8195\n",
            "Epoch 39/100\n",
            "30162/30162 [==============================] - 1s 47us/step - loss: 0.3579 - accuracy: 0.8217 - val_loss: 0.3627 - val_accuracy: 0.8167\n",
            "Epoch 40/100\n",
            "30162/30162 [==============================] - 1s 49us/step - loss: 0.3607 - accuracy: 0.8175 - val_loss: 0.3711 - val_accuracy: 0.8167\n",
            "Epoch 41/100\n",
            "30162/30162 [==============================] - 1s 46us/step - loss: 0.3609 - accuracy: 0.8168 - val_loss: 0.3614 - val_accuracy: 0.8167\n",
            "Epoch 42/100\n",
            "30162/30162 [==============================] - 1s 46us/step - loss: 0.3596 - accuracy: 0.8154 - val_loss: 0.3658 - val_accuracy: 0.8179\n",
            "Epoch 43/100\n",
            "30162/30162 [==============================] - 1s 47us/step - loss: 0.3601 - accuracy: 0.8169 - val_loss: 0.3746 - val_accuracy: 0.8062\n",
            "Epoch 44/100\n",
            "30162/30162 [==============================] - 1s 47us/step - loss: 0.3599 - accuracy: 0.8185 - val_loss: 0.3613 - val_accuracy: 0.8183\n",
            "Epoch 45/100\n",
            "30162/30162 [==============================] - 1s 47us/step - loss: 0.3584 - accuracy: 0.8190 - val_loss: 0.3654 - val_accuracy: 0.8171\n",
            "Epoch 46/100\n",
            "30162/30162 [==============================] - 1s 47us/step - loss: 0.3586 - accuracy: 0.8190 - val_loss: 0.3608 - val_accuracy: 0.8182\n",
            "Epoch 47/100\n",
            "30162/30162 [==============================] - 1s 47us/step - loss: 0.3591 - accuracy: 0.8186 - val_loss: 0.3733 - val_accuracy: 0.8123\n",
            "Epoch 48/100\n",
            "30162/30162 [==============================] - 1s 47us/step - loss: 0.3584 - accuracy: 0.8173 - val_loss: 0.3665 - val_accuracy: 0.8094\n",
            "Epoch 49/100\n",
            "30162/30162 [==============================] - 1s 46us/step - loss: 0.3578 - accuracy: 0.8176 - val_loss: 0.3619 - val_accuracy: 0.8166\n",
            "Epoch 50/100\n",
            "30162/30162 [==============================] - 1s 47us/step - loss: 0.3582 - accuracy: 0.8198 - val_loss: 0.3673 - val_accuracy: 0.8100\n",
            "Epoch 51/100\n",
            "30162/30162 [==============================] - 2s 50us/step - loss: 0.3578 - accuracy: 0.8193 - val_loss: 0.3626 - val_accuracy: 0.8191\n",
            "Epoch 52/100\n",
            "30162/30162 [==============================] - 1s 49us/step - loss: 0.3570 - accuracy: 0.8185 - val_loss: 0.3615 - val_accuracy: 0.8183\n",
            "Epoch 53/100\n",
            "30162/30162 [==============================] - 2s 55us/step - loss: 0.3572 - accuracy: 0.8210 - val_loss: 0.3635 - val_accuracy: 0.8141\n",
            "Epoch 54/100\n",
            "30162/30162 [==============================] - 1s 48us/step - loss: 0.3576 - accuracy: 0.8182 - val_loss: 0.3630 - val_accuracy: 0.8165\n",
            "Epoch 55/100\n",
            "30162/30162 [==============================] - 1s 49us/step - loss: 0.3572 - accuracy: 0.8185 - val_loss: 0.3620 - val_accuracy: 0.8151\n"
          ]
        },
        {
          "name": "stdout",
          "output_type": "stream",
          "text": [
            "Epoch 56/100\n",
            "30162/30162 [==============================] - 1s 46us/step - loss: 0.3570 - accuracy: 0.8181 - val_loss: 0.3664 - val_accuracy: 0.8164\n",
            "Epoch 57/100\n",
            "30162/30162 [==============================] - 1s 47us/step - loss: 0.3567 - accuracy: 0.8202 - val_loss: 0.3724 - val_accuracy: 0.8053\n",
            "Epoch 58/100\n",
            "30162/30162 [==============================] - 1s 47us/step - loss: 0.3561 - accuracy: 0.8190 - val_loss: 0.3648 - val_accuracy: 0.8172\n",
            "Epoch 59/100\n",
            "30162/30162 [==============================] - 1s 46us/step - loss: 0.3553 - accuracy: 0.8192 - val_loss: 0.3617 - val_accuracy: 0.8173\n",
            "Epoch 60/100\n",
            "30162/30162 [==============================] - 1s 48us/step - loss: 0.3555 - accuracy: 0.8223 - val_loss: 0.3626 - val_accuracy: 0.8185\n",
            "Epoch 61/100\n",
            "30162/30162 [==============================] - 1s 48us/step - loss: 0.3547 - accuracy: 0.8198 - val_loss: 0.3691 - val_accuracy: 0.8124\n",
            "Epoch 62/100\n",
            "30162/30162 [==============================] - 1s 48us/step - loss: 0.3561 - accuracy: 0.8200 - val_loss: 0.3620 - val_accuracy: 0.8168\n",
            "Epoch 63/100\n",
            "30162/30162 [==============================] - 1s 48us/step - loss: 0.3550 - accuracy: 0.8212 - val_loss: 0.3625 - val_accuracy: 0.8158\n",
            "Epoch 64/100\n",
            "30162/30162 [==============================] - 1s 48us/step - loss: 0.3558 - accuracy: 0.8192 - val_loss: 0.3625 - val_accuracy: 0.8180\n",
            "Epoch 65/100\n",
            "30162/30162 [==============================] - 1s 48us/step - loss: 0.3550 - accuracy: 0.8198 - val_loss: 0.3681 - val_accuracy: 0.8102\n",
            "Epoch 66/100\n",
            "30162/30162 [==============================] - 1s 47us/step - loss: 0.3555 - accuracy: 0.8188 - val_loss: 0.3639 - val_accuracy: 0.8173\n",
            "Epoch 67/100\n",
            "30162/30162 [==============================] - 1s 48us/step - loss: 0.3548 - accuracy: 0.8201 - val_loss: 0.3624 - val_accuracy: 0.8164\n",
            "Epoch 68/100\n",
            "30162/30162 [==============================] - 1s 47us/step - loss: 0.3544 - accuracy: 0.8187 - val_loss: 0.3616 - val_accuracy: 0.8175\n",
            "Epoch 69/100\n",
            "30162/30162 [==============================] - 1s 46us/step - loss: 0.3545 - accuracy: 0.8201 - val_loss: 0.3636 - val_accuracy: 0.8165\n",
            "Epoch 70/100\n",
            "30162/30162 [==============================] - 1s 47us/step - loss: 0.3542 - accuracy: 0.8203 - val_loss: 0.3628 - val_accuracy: 0.8167\n",
            "Epoch 71/100\n",
            "30162/30162 [==============================] - 1s 46us/step - loss: 0.3538 - accuracy: 0.8195 - val_loss: 0.3626 - val_accuracy: 0.8167\n",
            "Epoch 72/100\n",
            "30162/30162 [==============================] - 1s 48us/step - loss: 0.3534 - accuracy: 0.8211 - val_loss: 0.3619 - val_accuracy: 0.8177\n",
            "Epoch 73/100\n",
            "30162/30162 [==============================] - 1s 47us/step - loss: 0.3540 - accuracy: 0.8200 - val_loss: 0.3615 - val_accuracy: 0.8173\n",
            "Epoch 74/100\n",
            "30162/30162 [==============================] - 1s 47us/step - loss: 0.3529 - accuracy: 0.8203 - val_loss: 0.3624 - val_accuracy: 0.8154\n",
            "Epoch 75/100\n",
            "30162/30162 [==============================] - 1s 47us/step - loss: 0.3534 - accuracy: 0.8197 - val_loss: 0.3643 - val_accuracy: 0.8165\n",
            "Epoch 76/100\n",
            "30162/30162 [==============================] - 1s 48us/step - loss: 0.3538 - accuracy: 0.8209 - val_loss: 0.3626 - val_accuracy: 0.8169\n",
            "Epoch 77/100\n",
            "30162/30162 [==============================] - 1s 47us/step - loss: 0.3524 - accuracy: 0.8193 - val_loss: 0.3644 - val_accuracy: 0.8173\n",
            "Epoch 78/100\n",
            "30162/30162 [==============================] - 1s 47us/step - loss: 0.3521 - accuracy: 0.8200 - val_loss: 0.3888 - val_accuracy: 0.7963\n",
            "Epoch 79/100\n",
            "30162/30162 [==============================] - 1s 49us/step - loss: 0.3529 - accuracy: 0.8196 - val_loss: 0.3623 - val_accuracy: 0.8169\n",
            "Epoch 80/100\n",
            "30162/30162 [==============================] - 1s 48us/step - loss: 0.3520 - accuracy: 0.8217 - val_loss: 0.3647 - val_accuracy: 0.8141\n",
            "Epoch 81/100\n",
            "30162/30162 [==============================] - 2s 50us/step - loss: 0.3516 - accuracy: 0.8204 - val_loss: 0.3650 - val_accuracy: 0.8157\n",
            "Epoch 82/100\n",
            "30162/30162 [==============================] - 1s 48us/step - loss: 0.3515 - accuracy: 0.8226 - val_loss: 0.3630 - val_accuracy: 0.8169\n",
            "Epoch 83/100\n",
            "30162/30162 [==============================] - 1s 48us/step - loss: 0.3511 - accuracy: 0.8204 - val_loss: 0.3666 - val_accuracy: 0.8176\n",
            "Epoch 84/100\n",
            "30162/30162 [==============================] - 1s 47us/step - loss: 0.3517 - accuracy: 0.8218 - val_loss: 0.3713 - val_accuracy: 0.8162\n",
            "Epoch 85/100\n",
            "30162/30162 [==============================] - 1s 49us/step - loss: 0.3513 - accuracy: 0.8222 - val_loss: 0.3638 - val_accuracy: 0.8165\n",
            "Epoch 86/100\n",
            "30162/30162 [==============================] - 1s 48us/step - loss: 0.3510 - accuracy: 0.8208 - val_loss: 0.3628 - val_accuracy: 0.8163\n",
            "Epoch 87/100\n",
            "30162/30162 [==============================] - 1s 48us/step - loss: 0.3511 - accuracy: 0.8212 - val_loss: 0.3682 - val_accuracy: 0.8162\n",
            "Epoch 88/100\n",
            "30162/30162 [==============================] - 1s 47us/step - loss: 0.3506 - accuracy: 0.8216 - val_loss: 0.3673 - val_accuracy: 0.8129\n",
            "Epoch 89/100\n",
            "30162/30162 [==============================] - 1s 48us/step - loss: 0.3507 - accuracy: 0.8220 - val_loss: 0.3631 - val_accuracy: 0.8161\n",
            "Epoch 90/100\n",
            "30162/30162 [==============================] - 1s 48us/step - loss: 0.3517 - accuracy: 0.8218 - val_loss: 0.3652 - val_accuracy: 0.8165\n",
            "Epoch 91/100\n",
            "30162/30162 [==============================] - 1s 47us/step - loss: 0.3509 - accuracy: 0.8227 - val_loss: 0.3642 - val_accuracy: 0.8155\n",
            "Epoch 92/100\n",
            "30162/30162 [==============================] - 1s 48us/step - loss: 0.3497 - accuracy: 0.8202 - val_loss: 0.3658 - val_accuracy: 0.8160\n",
            "Epoch 93/100\n",
            "30162/30162 [==============================] - 1s 46us/step - loss: 0.3504 - accuracy: 0.8210 - val_loss: 0.3636 - val_accuracy: 0.8177\n",
            "Epoch 94/100\n",
            "30162/30162 [==============================] - 1s 47us/step - loss: 0.3499 - accuracy: 0.8213 - val_loss: 0.3654 - val_accuracy: 0.8147\n",
            "Epoch 95/100\n",
            "30162/30162 [==============================] - 1s 47us/step - loss: 0.3498 - accuracy: 0.8217 - val_loss: 0.3624 - val_accuracy: 0.8167\n",
            "Epoch 96/100\n",
            "30162/30162 [==============================] - 1s 47us/step - loss: 0.3499 - accuracy: 0.8226 - val_loss: 0.3654 - val_accuracy: 0.8147\n",
            "Epoch 97/100\n",
            "30162/30162 [==============================] - 1s 48us/step - loss: 0.3500 - accuracy: 0.8211 - val_loss: 0.3642 - val_accuracy: 0.8152\n",
            "Epoch 98/100\n",
            "30162/30162 [==============================] - 2s 51us/step - loss: 0.3497 - accuracy: 0.8217 - val_loss: 0.3668 - val_accuracy: 0.8152\n",
            "Epoch 99/100\n",
            "30162/30162 [==============================] - 1s 48us/step - loss: 0.3498 - accuracy: 0.8209 - val_loss: 0.3639 - val_accuracy: 0.8159\n",
            "Epoch 100/100\n",
            "30162/30162 [==============================] - 1s 47us/step - loss: 0.3496 - accuracy: 0.8216 - val_loss: 0.3630 - val_accuracy: 0.8159\n"
          ]
        }
      ],
      "source": [
        "save_best_model = ModelCheckpoint(\"wagi_best.h5py\",save_best_only=True)\n",
        "history = model.fit(X_train, y_train, validation_data= (X_test, y_test), batch_size=32,epochs=100, callbacks=[save_best_model])"
      ]
    },
    {
      "cell_type": "code",
      "execution_count": null,
      "metadata": {
        "id": "N5fAnJMZMmIW",
        "outputId": "4f19ae8e-0a41-4d87-ba22-a4644557365b"
      },
      "outputs": [
        {
          "data": {
            "image/png": "[encoded data removed]",
            "text/plain": [
              "<Figure size 576x360 with 1 Axes>"
            ]
          },
          "metadata": {
            "needs_background": "light"
          },
          "output_type": "display_data"
        }
      ],
      "source": [
        "import pandas as pd\n",
        "\n",
        "pd.DataFrame(history.history).plot(figsize=(8, 5))\n",
        "plt.grid(True)\n",
        "plt.gca().set_ylim(0, 1)\n",
        "plt.show()"
      ]
    },
    {
      "cell_type": "code",
      "execution_count": null,
      "metadata": {
        "id": "2O6JxlC7MmIX",
        "outputId": "b5ca40b6-8d1f-49c6-a2dc-e3eecdcad67f"
      },
      "outputs": [
        {
          "name": "stdout",
          "output_type": "stream",
          "text": [
            "15060/15060 [==============================] - 0s 16us/step\n"
          ]
        },
        {
          "data": {
            "text/plain": [
              "[0.36299147292437306, 0.8158698678016663]"
            ]
          },
          "execution_count": 12,
          "metadata": {},
          "output_type": "execute_result"
        }
      ],
      "source": [
        "model.evaluate(X_test,y_test)"
      ]
    },
    {
      "cell_type": "code",
      "execution_count": null,
      "metadata": {
        "id": "9DlFzUlOMmIX",
        "outputId": "4c027b2c-6346-4ee2-9221-2493aaf5155c"
      },
      "outputs": [
        {
          "data": {
            "text/plain": [
              "0.8158698539176626"
            ]
          },
          "execution_count": 13,
          "metadata": {},
          "output_type": "execute_result"
        }
      ],
      "source": [
        "from sklearn import  metrics\n",
        "metrics.accuracy_score(y_true= y_test, y_pred= model.predict_classes(X_test) )"
      ]
    },
    {
      "cell_type": "markdown",
      "metadata": {
        "id": "Qj-y1F12MmIY"
      },
      "source": [
        "# Zad\n",
        "\n",
        "Wczytaj nauczony model"
      ]
    },
    {
      "cell_type": "code",
      "execution_count": null,
      "metadata": {
        "id": "l07oro3AMmIY",
        "outputId": "c047efab-c8c0-4b28-a3a7-289f9da3ba7b"
      },
      "outputs": [
        {
          "name": "stdout",
          "output_type": "stream",
          "text": [
            "15060/15060 [==============================] - 0s 15us/step\n"
          ]
        },
        {
          "data": {
            "text/plain": [
              "[0.36044085541886006, 0.818061113357544]"
            ]
          },
          "execution_count": 14,
          "metadata": {},
          "output_type": "execute_result"
        }
      ],
      "source": [
        "model.load_weights(\"wagi_best.h5py\")\n",
        "model.evaluate(X_test,y_test)"
      ]
    },
    {
      "cell_type": "markdown",
      "metadata": {
        "id": "Q7Jg7bosMmIZ"
      },
      "source": [
        "# Zad\n",
        "\n",
        "* Naucz dowolny model na zbiorze MNIST.\n",
        "* Zapisz optymalne parametry uczenia do pliku\n",
        "* Wczytaj dane z pliku"
      ]
    },
    {
      "cell_type": "code",
      "execution_count": null,
      "metadata": {
        "id": "vwI9eHFzMmIZ",
        "colab": {
          "base_uri": "https://localhost:8080/"
        },
        "outputId": "6ab5d7c9-2674-4ad2-d27c-13b76c048ca1"
      },
      "outputs": [
        {
          "output_type": "stream",
          "name": "stdout",
          "text": [
            "Downloading data from https://storage.googleapis.com/tensorflow/tf-keras-datasets/mnist.npz\n",
            "11490434/11490434 [==============================] - 1s 0us/step\n"
          ]
        }
      ],
      "source": [
        "(X_train_full, y_train_full), (X_test, y_test) = keras.datasets.mnist.load_data()"
      ]
    },
    {
      "cell_type": "code",
      "source": [
        "X_valid, X_train = X_train_full[:5000] / 255., X_train_full[5000:] / 255.\n",
        "y_valid, y_train = y_train_full[:5000], y_train_full[5000:]\n",
        "X_test = X_test / 255."
      ],
      "metadata": {
        "id": "0u99m6bfNXIy"
      },
      "execution_count": null,
      "outputs": []
    },
    {
      "cell_type": "code",
      "source": [
        "from keras.utils import np_utils\n",
        "# one hot encode outputs\n",
        "y_train = np_utils.to_categorical(y_train)\n",
        "y_test = np_utils.to_categorical(y_test)\n",
        "\n",
        "y_valid = np_utils.to_categorical(y_valid)\n",
        "\n",
        "print(y_train)"
      ],
      "metadata": {
        "colab": {
          "base_uri": "https://localhost:8080/"
        },
        "id": "vkSVyhrDNXdk",
        "outputId": "3f6a9b89-833a-46d0-8bbd-77183930d30c"
      },
      "execution_count": null,
      "outputs": [
        {
          "output_type": "stream",
          "name": "stdout",
          "text": [
            "[[0. 0. 0. ... 1. 0. 0.]\n",
            " [0. 0. 0. ... 0. 0. 0.]\n",
            " [0. 0. 0. ... 0. 0. 0.]\n",
            " ...\n",
            " [0. 0. 0. ... 0. 0. 0.]\n",
            " [0. 0. 0. ... 0. 0. 0.]\n",
            " [0. 0. 0. ... 0. 1. 0.]]\n"
          ]
        }
      ]
    },
    {
      "cell_type": "code",
      "source": [
        "from keras.callbacks import ModelCheckpoint\n",
        "keras.backend.clear_session()\n",
        "np.random.seed(42)\n",
        "tf.random.set_seed(42)\n",
        "\n",
        "model = keras.models.Sequential([\n",
        "    keras.layers.Flatten(input_shape=[28, 28]),\n",
        "    keras.layers.Dense(300, activation=\"relu\"),\n",
        "    keras.layers.Dense(100, activation=\"relu\"),\n",
        "    keras.layers.Dense(10, activation=\"softmax\")\n",
        "])\n",
        "\n",
        "model.summary()\n",
        "\n",
        "save_best_model = ModelCheckpoint(\"wagi_best2.h5py\",save_best_only=True)\n",
        "model.compile(loss=\"categorical_crossentropy\",\n",
        "              optimizer=\"sgd\",\n",
        "              metrics=[\"accuracy\"])\n",
        "save_best_model = ModelCheckpoint(\"wagi_best2.h5py\",save_best_only=True)\n",
        "history = model.fit(X_train, y_train, epochs=30, validation_data=(X_valid, y_valid), callbacks=[save_best_model])"
      ],
      "metadata": {
        "colab": {
          "base_uri": "https://localhost:8080/"
        },
        "id": "2reXHLdMNYW_",
        "outputId": "1e8b8ccb-ffe1-454a-bd3b-95974268ea08"
      },
      "execution_count": null,
      "outputs": [
        {
          "output_type": "stream",
          "name": "stdout",
          "text": [
            "Model: \"sequential\"\n",
            "_________________________________________________________________\n",
            " Layer (type)                Output Shape              Param #   \n",
            "=================================================================\n",
            " flatten (Flatten)           (None, 784)               0         \n",
            "                                                                 \n",
            " dense (Dense)               (None, 300)               235500    \n",
            "                                                                 \n",
            " dense_1 (Dense)             (None, 100)               30100     \n",
            "                                                                 \n",
            " dense_2 (Dense)             (None, 10)                1010      \n",
            "                                                                 \n",
            "=================================================================\n",
            "Total params: 266,610\n",
            "Trainable params: 266,610\n",
            "Non-trainable params: 0\n",
            "_________________________________________________________________\n",
            "Epoch 1/30\n",
            "1719/1719 [==============================] - ETA: 0s - loss: 0.6311 - accuracy: 0.8358"
          ]
        },
        {
          "output_type": "stream",
          "name": "stderr",
          "text": [
            "WARNING:absl:Found untraced functions such as _update_step_xla while saving (showing 1 of 1). These functions will not be directly callable after loading.\n"
          ]
        },
        {
          "output_type": "stream",
          "name": "stdout",
          "text": [
            "\b\b\b\b\b\b\b\b\b\b\b\b\b\b\b\b\b\b\b\b\b\b\b\b\b\b\b\b\b\b\b\b\b\b\b\b\b\b\b\b\b\b\b\b\b\b\b\b\b\b\b\b\b\b\b\b\b\b\b\b\b\b\b\b\b\b\b\b\b\b\b\b\b\b\b\b\b\b\b\b\b\b\b\b\b\b\r1719/1719 [==============================] - 10s 6ms/step - loss: 0.6311 - accuracy: 0.8358 - val_loss: 0.3092 - val_accuracy: 0.9164\n",
            "Epoch 2/30\n",
            "1717/1719 [============================>.] - ETA: 0s - loss: 0.2931 - accuracy: 0.9163"
          ]
        },
        {
          "output_type": "stream",
          "name": "stderr",
          "text": [
            "WARNING:absl:Found untraced functions such as _update_step_xla while saving (showing 1 of 1). These functions will not be directly callable after loading.\n"
          ]
        },
        {
          "output_type": "stream",
          "name": "stdout",
          "text": [
            "\b\b\b\b\b\b\b\b\b\b\b\b\b\b\b\b\b\b\b\b\b\b\b\b\b\b\b\b\b\b\b\b\b\b\b\b\b\b\b\b\b\b\b\b\b\b\b\b\b\b\b\b\b\b\b\b\b\b\b\b\b\b\b\b\b\b\b\b\b\b\b\b\b\b\b\b\b\b\b\b\b\b\b\b\b\b\r1719/1719 [==============================] - 9s 5ms/step - loss: 0.2931 - accuracy: 0.9163 - val_loss: 0.2431 - val_accuracy: 0.9328\n",
            "Epoch 3/30\n",
            "1716/1719 [============================>.] - ETA: 0s - loss: 0.2399 - accuracy: 0.9312"
          ]
        },
        {
          "output_type": "stream",
          "name": "stderr",
          "text": [
            "WARNING:absl:Found untraced functions such as _update_step_xla while saving (showing 1 of 1). These functions will not be directly callable after loading.\n"
          ]
        },
        {
          "output_type": "stream",
          "name": "stdout",
          "text": [
            "\b\b\b\b\b\b\b\b\b\b\b\b\b\b\b\b\b\b\b\b\b\b\b\b\b\b\b\b\b\b\b\b\b\b\b\b\b\b\b\b\b\b\b\b\b\b\b\b\b\b\b\b\b\b\b\b\b\b\b\b\b\b\b\b\b\b\b\b\b\b\b\b\b\b\b\b\b\b\b\b\b\b\b\b\b\b\r1719/1719 [==============================] - 8s 5ms/step - loss: 0.2399 - accuracy: 0.9312 - val_loss: 0.2033 - val_accuracy: 0.9424\n",
            "Epoch 4/30\n",
            "1714/1719 [============================>.] - ETA: 0s - loss: 0.2045 - accuracy: 0.9408"
          ]
        },
        {
          "output_type": "stream",
          "name": "stderr",
          "text": [
            "WARNING:absl:Found untraced functions such as _update_step_xla while saving (showing 1 of 1). These functions will not be directly callable after loading.\n"
          ]
        },
        {
          "output_type": "stream",
          "name": "stdout",
          "text": [
            "\b\b\b\b\b\b\b\b\b\b\b\b\b\b\b\b\b\b\b\b\b\b\b\b\b\b\b\b\b\b\b\b\b\b\b\b\b\b\b\b\b\b\b\b\b\b\b\b\b\b\b\b\b\b\b\b\b\b\b\b\b\b\b\b\b\b\b\b\b\b\b\b\b\b\b\b\b\b\b\b\b\b\b\b\b\b\r1719/1719 [==============================] - 9s 5ms/step - loss: 0.2044 - accuracy: 0.9409 - val_loss: 0.1792 - val_accuracy: 0.9490\n",
            "Epoch 5/30\n",
            "1715/1719 [============================>.] - ETA: 0s - loss: 0.1785 - accuracy: 0.9490"
          ]
        },
        {
          "output_type": "stream",
          "name": "stderr",
          "text": [
            "WARNING:absl:Found untraced functions such as _update_step_xla while saving (showing 1 of 1). These functions will not be directly callable after loading.\n"
          ]
        },
        {
          "output_type": "stream",
          "name": "stdout",
          "text": [
            "\b\b\b\b\b\b\b\b\b\b\b\b\b\b\b\b\b\b\b\b\b\b\b\b\b\b\b\b\b\b\b\b\b\b\b\b\b\b\b\b\b\b\b\b\b\b\b\b\b\b\b\b\b\b\b\b\b\b\b\b\b\b\b\b\b\b\b\b\b\b\b\b\b\b\b\b\b\b\b\b\b\b\b\b\b\b\r1719/1719 [==============================] - 9s 5ms/step - loss: 0.1785 - accuracy: 0.9491 - val_loss: 0.1582 - val_accuracy: 0.9556\n",
            "Epoch 6/30\n",
            "1711/1719 [============================>.] - ETA: 0s - loss: 0.1585 - accuracy: 0.9547"
          ]
        },
        {
          "output_type": "stream",
          "name": "stderr",
          "text": [
            "WARNING:absl:Found untraced functions such as _update_step_xla while saving (showing 1 of 1). These functions will not be directly callable after loading.\n"
          ]
        },
        {
          "output_type": "stream",
          "name": "stdout",
          "text": [
            "\b\b\b\b\b\b\b\b\b\b\b\b\b\b\b\b\b\b\b\b\b\b\b\b\b\b\b\b\b\b\b\b\b\b\b\b\b\b\b\b\b\b\b\b\b\b\b\b\b\b\b\b\b\b\b\b\b\b\b\b\b\b\b\b\b\b\b\b\b\b\b\b\b\b\b\b\b\b\b\b\b\b\b\b\b\b\r1719/1719 [==============================] - 8s 5ms/step - loss: 0.1583 - accuracy: 0.9548 - val_loss: 0.1458 - val_accuracy: 0.9590\n",
            "Epoch 7/30\n",
            "1719/1719 [==============================] - ETA: 0s - loss: 0.1419 - accuracy: 0.9602"
          ]
        },
        {
          "output_type": "stream",
          "name": "stderr",
          "text": [
            "WARNING:absl:Found untraced functions such as _update_step_xla while saving (showing 1 of 1). These functions will not be directly callable after loading.\n"
          ]
        },
        {
          "output_type": "stream",
          "name": "stdout",
          "text": [
            "\b\b\b\b\b\b\b\b\b\b\b\b\b\b\b\b\b\b\b\b\b\b\b\b\b\b\b\b\b\b\b\b\b\b\b\b\b\b\b\b\b\b\b\b\b\b\b\b\b\b\b\b\b\b\b\b\b\b\b\b\b\b\b\b\b\b\b\b\b\b\b\b\b\b\b\b\b\b\b\b\b\b\b\b\b\b\r1719/1719 [==============================] - 9s 5ms/step - loss: 0.1419 - accuracy: 0.9602 - val_loss: 0.1331 - val_accuracy: 0.9646\n",
            "Epoch 8/30\n",
            "1713/1719 [============================>.] - ETA: 0s - loss: 0.1286 - accuracy: 0.9634"
          ]
        },
        {
          "output_type": "stream",
          "name": "stderr",
          "text": [
            "WARNING:absl:Found untraced functions such as _update_step_xla while saving (showing 1 of 1). These functions will not be directly callable after loading.\n"
          ]
        },
        {
          "output_type": "stream",
          "name": "stdout",
          "text": [
            "\b\b\b\b\b\b\b\b\b\b\b\b\b\b\b\b\b\b\b\b\b\b\b\b\b\b\b\b\b\b\b\b\b\b\b\b\b\b\b\b\b\b\b\b\b\b\b\b\b\b\b\b\b\b\b\b\b\b\b\b\b\b\b\b\b\b\b\b\b\b\b\b\b\b\b\b\b\b\b\b\b\b\b\b\b\b\r1719/1719 [==============================] - 9s 5ms/step - loss: 0.1287 - accuracy: 0.9634 - val_loss: 0.1257 - val_accuracy: 0.9662\n",
            "Epoch 9/30\n",
            "1708/1719 [============================>.] - ETA: 0s - loss: 0.1173 - accuracy: 0.9671"
          ]
        },
        {
          "output_type": "stream",
          "name": "stderr",
          "text": [
            "WARNING:absl:Found untraced functions such as _update_step_xla while saving (showing 1 of 1). These functions will not be directly callable after loading.\n"
          ]
        },
        {
          "output_type": "stream",
          "name": "stdout",
          "text": [
            "\b\b\b\b\b\b\b\b\b\b\b\b\b\b\b\b\b\b\b\b\b\b\b\b\b\b\b\b\b\b\b\b\b\b\b\b\b\b\b\b\b\b\b\b\b\b\b\b\b\b\b\b\b\b\b\b\b\b\b\b\b\b\b\b\b\b\b\b\b\b\b\b\b\b\b\b\b\b\b\b\b\b\b\b\b\b\r1719/1719 [==============================] - 8s 5ms/step - loss: 0.1172 - accuracy: 0.9671 - val_loss: 0.1179 - val_accuracy: 0.9662\n",
            "Epoch 10/30\n",
            "1706/1719 [============================>.] - ETA: 0s - loss: 0.1079 - accuracy: 0.9696"
          ]
        },
        {
          "output_type": "stream",
          "name": "stderr",
          "text": [
            "WARNING:absl:Found untraced functions such as _update_step_xla while saving (showing 1 of 1). These functions will not be directly callable after loading.\n"
          ]
        },
        {
          "output_type": "stream",
          "name": "stdout",
          "text": [
            "\b\b\b\b\b\b\b\b\b\b\b\b\b\b\b\b\b\b\b\b\b\b\b\b\b\b\b\b\b\b\b\b\b\b\b\b\b\b\b\b\b\b\b\b\b\b\b\b\b\b\b\b\b\b\b\b\b\b\b\b\b\b\b\b\b\b\b\b\b\b\b\b\b\b\b\b\b\b\b\b\b\b\b\b\b\b\r1719/1719 [==============================] - 9s 5ms/step - loss: 0.1077 - accuracy: 0.9697 - val_loss: 0.1072 - val_accuracy: 0.9706\n",
            "Epoch 11/30\n",
            "1708/1719 [============================>.] - ETA: 0s - loss: 0.0991 - accuracy: 0.9721"
          ]
        },
        {
          "output_type": "stream",
          "name": "stderr",
          "text": [
            "WARNING:absl:Found untraced functions such as _update_step_xla while saving (showing 1 of 1). These functions will not be directly callable after loading.\n"
          ]
        },
        {
          "output_type": "stream",
          "name": "stdout",
          "text": [
            "\b\b\b\b\b\b\b\b\b\b\b\b\b\b\b\b\b\b\b\b\b\b\b\b\b\b\b\b\b\b\b\b\b\b\b\b\b\b\b\b\b\b\b\b\b\b\b\b\b\b\b\b\b\b\b\b\b\b\b\b\b\b\b\b\b\b\b\b\b\b\b\b\b\b\b\b\b\b\b\b\b\b\b\b\b\b\r1719/1719 [==============================] - 9s 5ms/step - loss: 0.0991 - accuracy: 0.9721 - val_loss: 0.1037 - val_accuracy: 0.9704\n",
            "Epoch 12/30\n",
            "1714/1719 [============================>.] - ETA: 0s - loss: 0.0912 - accuracy: 0.9746"
          ]
        },
        {
          "output_type": "stream",
          "name": "stderr",
          "text": [
            "WARNING:absl:Found untraced functions such as _update_step_xla while saving (showing 1 of 1). These functions will not be directly callable after loading.\n"
          ]
        },
        {
          "output_type": "stream",
          "name": "stdout",
          "text": [
            "\b\b\b\b\b\b\b\b\b\b\b\b\b\b\b\b\b\b\b\b\b\b\b\b\b\b\b\b\b\b\b\b\b\b\b\b\b\b\b\b\b\b\b\b\b\b\b\b\b\b\b\b\b\b\b\b\b\b\b\b\b\b\b\b\b\b\b\b\b\b\b\b\b\b\b\b\b\b\b\b\b\b\b\b\b\b\r1719/1719 [==============================] - 11s 6ms/step - loss: 0.0916 - accuracy: 0.9745 - val_loss: 0.0998 - val_accuracy: 0.9726\n",
            "Epoch 13/30\n",
            "1710/1719 [============================>.] - ETA: 0s - loss: 0.0847 - accuracy: 0.9763"
          ]
        },
        {
          "output_type": "stream",
          "name": "stderr",
          "text": [
            "WARNING:absl:Found untraced functions such as _update_step_xla while saving (showing 1 of 1). These functions will not be directly callable after loading.\n"
          ]
        },
        {
          "output_type": "stream",
          "name": "stdout",
          "text": [
            "\b\b\b\b\b\b\b\b\b\b\b\b\b\b\b\b\b\b\b\b\b\b\b\b\b\b\b\b\b\b\b\b\b\b\b\b\b\b\b\b\b\b\b\b\b\b\b\b\b\b\b\b\b\b\b\b\b\b\b\b\b\b\b\b\b\b\b\b\b\b\b\b\b\b\b\b\b\b\b\b\b\b\b\b\b\b\r1719/1719 [==============================] - 8s 4ms/step - loss: 0.0849 - accuracy: 0.9763 - val_loss: 0.0944 - val_accuracy: 0.9738\n",
            "Epoch 14/30\n",
            "1719/1719 [==============================] - ETA: 0s - loss: 0.0789 - accuracy: 0.9781"
          ]
        },
        {
          "output_type": "stream",
          "name": "stderr",
          "text": [
            "WARNING:absl:Found untraced functions such as _update_step_xla while saving (showing 1 of 1). These functions will not be directly callable after loading.\n"
          ]
        },
        {
          "output_type": "stream",
          "name": "stdout",
          "text": [
            "\b\b\b\b\b\b\b\b\b\b\b\b\b\b\b\b\b\b\b\b\b\b\b\b\b\b\b\b\b\b\b\b\b\b\b\b\b\b\b\b\b\b\b\b\b\b\b\b\b\b\b\b\b\b\b\b\b\b\b\b\b\b\b\b\b\b\b\b\b\b\b\b\b\b\b\b\b\b\b\b\b\b\b\b\b\b\r1719/1719 [==============================] - 9s 5ms/step - loss: 0.0789 - accuracy: 0.9781 - val_loss: 0.0922 - val_accuracy: 0.9742\n",
            "Epoch 15/30\n",
            "1712/1719 [============================>.] - ETA: 0s - loss: 0.0735 - accuracy: 0.9799"
          ]
        },
        {
          "output_type": "stream",
          "name": "stderr",
          "text": [
            "WARNING:absl:Found untraced functions such as _update_step_xla while saving (showing 1 of 1). These functions will not be directly callable after loading.\n"
          ]
        },
        {
          "output_type": "stream",
          "name": "stdout",
          "text": [
            "\b\b\b\b\b\b\b\b\b\b\b\b\b\b\b\b\b\b\b\b\b\b\b\b\b\b\b\b\b\b\b\b\b\b\b\b\b\b\b\b\b\b\b\b\b\b\b\b\b\b\b\b\b\b\b\b\b\b\b\b\b\b\b\b\b\b\b\b\b\b\b\b\b\b\b\b\b\b\b\b\b\b\b\b\b\b\r1719/1719 [==============================] - 9s 5ms/step - loss: 0.0736 - accuracy: 0.9799 - val_loss: 0.0878 - val_accuracy: 0.9748\n",
            "Epoch 16/30\n",
            "1709/1719 [============================>.] - ETA: 0s - loss: 0.0689 - accuracy: 0.9809"
          ]
        },
        {
          "output_type": "stream",
          "name": "stderr",
          "text": [
            "WARNING:absl:Found untraced functions such as _update_step_xla while saving (showing 1 of 1). These functions will not be directly callable after loading.\n"
          ]
        },
        {
          "output_type": "stream",
          "name": "stdout",
          "text": [
            "\b\b\b\b\b\b\b\b\b\b\b\b\b\b\b\b\b\b\b\b\b\b\b\b\b\b\b\b\b\b\b\b\b\b\b\b\b\b\b\b\b\b\b\b\b\b\b\b\b\b\b\b\b\b\b\b\b\b\b\b\b\b\b\b\b\b\b\b\b\b\b\b\b\b\b\b\b\b\b\b\b\b\b\b\b\b\r1719/1719 [==============================] - 10s 6ms/step - loss: 0.0688 - accuracy: 0.9809 - val_loss: 0.0852 - val_accuracy: 0.9742\n",
            "Epoch 17/30\n",
            "1712/1719 [============================>.] - ETA: 0s - loss: 0.0645 - accuracy: 0.9825"
          ]
        },
        {
          "output_type": "stream",
          "name": "stderr",
          "text": [
            "WARNING:absl:Found untraced functions such as _update_step_xla while saving (showing 1 of 1). These functions will not be directly callable after loading.\n"
          ]
        },
        {
          "output_type": "stream",
          "name": "stdout",
          "text": [
            "\b\b\b\b\b\b\b\b\b\b\b\b\b\b\b\b\b\b\b\b\b\b\b\b\b\b\b\b\b\b\b\b\b\b\b\b\b\b\b\b\b\b\b\b\b\b\b\b\b\b\b\b\b\b\b\b\b\b\b\b\b\b\b\b\b\b\b\b\b\b\b\b\b\b\b\b\b\b\b\b\b\b\b\b\b\b\r1719/1719 [==============================] - 9s 5ms/step - loss: 0.0644 - accuracy: 0.9826 - val_loss: 0.0844 - val_accuracy: 0.9746\n",
            "Epoch 18/30\n",
            "1712/1719 [============================>.] - ETA: 0s - loss: 0.0605 - accuracy: 0.9842"
          ]
        },
        {
          "output_type": "stream",
          "name": "stderr",
          "text": [
            "WARNING:absl:Found untraced functions such as _update_step_xla while saving (showing 1 of 1). These functions will not be directly callable after loading.\n"
          ]
        },
        {
          "output_type": "stream",
          "name": "stdout",
          "text": [
            "\b\b\b\b\b\b\b\b\b\b\b\b\b\b\b\b\b\b\b\b\b\b\b\b\b\b\b\b\b\b\b\b\b\b\b\b\b\b\b\b\b\b\b\b\b\b\b\b\b\b\b\b\b\b\b\b\b\b\b\b\b\b\b\b\b\b\b\b\b\b\b\b\b\b\b\b\b\b\b\b\b\b\b\b\b\b\r1719/1719 [==============================] - 9s 5ms/step - loss: 0.0604 - accuracy: 0.9842 - val_loss: 0.0812 - val_accuracy: 0.9766\n",
            "Epoch 19/30\n",
            "1710/1719 [============================>.] - ETA: 0s - loss: 0.0568 - accuracy: 0.9853"
          ]
        },
        {
          "output_type": "stream",
          "name": "stderr",
          "text": [
            "WARNING:absl:Found untraced functions such as _update_step_xla while saving (showing 1 of 1). These functions will not be directly callable after loading.\n"
          ]
        },
        {
          "output_type": "stream",
          "name": "stdout",
          "text": [
            "\b\b\b\b\b\b\b\b\b\b\b\b\b\b\b\b\b\b\b\b\b\b\b\b\b\b\b\b\b\b\b\b\b\b\b\b\b\b\b\b\b\b\b\b\b\b\b\b\b\b\b\b\b\b\b\b\b\b\b\b\b\b\b\b\b\b\b\b\b\b\b\b\b\b\b\b\b\b\b\b\b\b\b\b\b\b\r1719/1719 [==============================] - 8s 5ms/step - loss: 0.0568 - accuracy: 0.9853 - val_loss: 0.0800 - val_accuracy: 0.9776\n",
            "Epoch 20/30\n",
            "1719/1719 [==============================] - 8s 5ms/step - loss: 0.0535 - accuracy: 0.9862 - val_loss: 0.0801 - val_accuracy: 0.9772\n",
            "Epoch 21/30\n",
            "1710/1719 [============================>.] - ETA: 0s - loss: 0.0506 - accuracy: 0.9867"
          ]
        },
        {
          "output_type": "stream",
          "name": "stderr",
          "text": [
            "WARNING:absl:Found untraced functions such as _update_step_xla while saving (showing 1 of 1). These functions will not be directly callable after loading.\n"
          ]
        },
        {
          "output_type": "stream",
          "name": "stdout",
          "text": [
            "\b\b\b\b\b\b\b\b\b\b\b\b\b\b\b\b\b\b\b\b\b\b\b\b\b\b\b\b\b\b\b\b\b\b\b\b\b\b\b\b\b\b\b\b\b\b\b\b\b\b\b\b\b\b\b\b\b\b\b\b\b\b\b\b\b\b\b\b\b\b\b\b\b\b\b\b\b\b\b\b\b\b\b\b\b\b\r1719/1719 [==============================] - 9s 5ms/step - loss: 0.0505 - accuracy: 0.9868 - val_loss: 0.0748 - val_accuracy: 0.9776\n",
            "Epoch 22/30\n",
            "1719/1719 [==============================] - 10s 6ms/step - loss: 0.0476 - accuracy: 0.9879 - val_loss: 0.0775 - val_accuracy: 0.9762\n",
            "Epoch 23/30\n",
            "1719/1719 [==============================] - 8s 5ms/step - loss: 0.0449 - accuracy: 0.9884 - val_loss: 0.0760 - val_accuracy: 0.9766\n",
            "Epoch 24/30\n",
            "1719/1719 [==============================] - 9s 5ms/step - loss: 0.0422 - accuracy: 0.9897 - val_loss: 0.0748 - val_accuracy: 0.9764\n",
            "Epoch 25/30\n",
            "1713/1719 [============================>.] - ETA: 0s - loss: 0.0402 - accuracy: 0.9899"
          ]
        },
        {
          "output_type": "stream",
          "name": "stderr",
          "text": [
            "WARNING:absl:Found untraced functions such as _update_step_xla while saving (showing 1 of 1). These functions will not be directly callable after loading.\n"
          ]
        },
        {
          "output_type": "stream",
          "name": "stdout",
          "text": [
            "\b\b\b\b\b\b\b\b\b\b\b\b\b\b\b\b\b\b\b\b\b\b\b\b\b\b\b\b\b\b\b\b\b\b\b\b\b\b\b\b\b\b\b\b\b\b\b\b\b\b\b\b\b\b\b\b\b\b\b\b\b\b\b\b\b\b\b\b\b\b\b\b\b\b\b\b\b\b\b\b\b\b\b\b\b\b\r1719/1719 [==============================] - 8s 4ms/step - loss: 0.0401 - accuracy: 0.9899 - val_loss: 0.0724 - val_accuracy: 0.9788\n",
            "Epoch 26/30\n",
            "1711/1719 [============================>.] - ETA: 0s - loss: 0.0376 - accuracy: 0.9910"
          ]
        },
        {
          "output_type": "stream",
          "name": "stderr",
          "text": [
            "WARNING:absl:Found untraced functions such as _update_step_xla while saving (showing 1 of 1). These functions will not be directly callable after loading.\n"
          ]
        },
        {
          "output_type": "stream",
          "name": "stdout",
          "text": [
            "\b\b\b\b\b\b\b\b\b\b\b\b\b\b\b\b\b\b\b\b\b\b\b\b\b\b\b\b\b\b\b\b\b\b\b\b\b\b\b\b\b\b\b\b\b\b\b\b\b\b\b\b\b\b\b\b\b\b\b\b\b\b\b\b\b\b\b\b\b\b\b\b\b\b\b\b\b\b\b\b\b\b\b\b\b\b\r1719/1719 [==============================] - 10s 6ms/step - loss: 0.0376 - accuracy: 0.9910 - val_loss: 0.0703 - val_accuracy: 0.9790\n",
            "Epoch 27/30\n",
            "1716/1719 [============================>.] - ETA: 0s - loss: 0.0357 - accuracy: 0.9916"
          ]
        },
        {
          "output_type": "stream",
          "name": "stderr",
          "text": [
            "WARNING:absl:Found untraced functions such as _update_step_xla while saving (showing 1 of 1). These functions will not be directly callable after loading.\n"
          ]
        },
        {
          "output_type": "stream",
          "name": "stdout",
          "text": [
            "\b\b\b\b\b\b\b\b\b\b\b\b\b\b\b\b\b\b\b\b\b\b\b\b\b\b\b\b\b\b\b\b\b\b\b\b\b\b\b\b\b\b\b\b\b\b\b\b\b\b\b\b\b\b\b\b\b\b\b\b\b\b\b\b\b\b\b\b\b\b\b\b\b\b\b\b\b\b\b\b\b\b\b\b\b\b\r1719/1719 [==============================] - 8s 5ms/step - loss: 0.0357 - accuracy: 0.9916 - val_loss: 0.0693 - val_accuracy: 0.9784\n",
            "Epoch 28/30\n",
            "1719/1719 [==============================] - 7s 4ms/step - loss: 0.0337 - accuracy: 0.9921 - val_loss: 0.0722 - val_accuracy: 0.9774\n",
            "Epoch 29/30\n",
            "1719/1719 [==============================] - 8s 5ms/step - loss: 0.0317 - accuracy: 0.9925 - val_loss: 0.0700 - val_accuracy: 0.9796\n",
            "Epoch 30/30\n",
            "1719/1719 [==============================] - 7s 4ms/step - loss: 0.0300 - accuracy: 0.9932 - val_loss: 0.0714 - val_accuracy: 0.9780\n"
          ]
        }
      ]
    },
    {
      "cell_type": "code",
      "source": [
        "\n",
        "\n",
        "model.load_weights(\"wagi_best2.h5py\")\n",
        "model.evaluate(X_test,y_test)\n",
        "\n"
      ],
      "metadata": {
        "colab": {
          "base_uri": "https://localhost:8080/"
        },
        "id": "ZAD2qrUFNZwR",
        "outputId": "5a4e24ba-54ad-4aed-d3b1-93474bc1f49b"
      },
      "execution_count": null,
      "outputs": [
        {
          "output_type": "stream",
          "name": "stdout",
          "text": [
            "313/313 [==============================] - 1s 3ms/step - loss: 0.0712 - accuracy: 0.9768\n"
          ]
        },
        {
          "output_type": "execute_result",
          "data": {
            "text/plain": [
              "[0.07115251570940018, 0.9768000245094299]"
            ]
          },
          "metadata": {},
          "execution_count": 10
        }
      ]
    },
    {
      "cell_type": "code",
      "source": [],
      "metadata": {
        "id": "X4dcUgscNZ06"
      },
      "execution_count": null,
      "outputs": []
    },
    {
      "cell_type": "code",
      "source": [],
      "metadata": {
        "id": "9sh6ma5mNZ4q"
      },
      "execution_count": null,
      "outputs": []
    }
  ],
  "metadata": {
    "kernelspec": {
      "display_name": "Python 3",
      "language": "python",
      "name": "python3"
    },
    "language_info": {
      "codemirror_mode": {
        "name": "ipython",
        "version": 3
      },
      "file_extension": ".py",
      "mimetype": "text/x-python",
      "name": "python",
      "nbconvert_exporter": "python",
      "pygments_lexer": "ipython3",
      "version": "3.7.3"
    },
    "colab": {
      "provenance": [],
      "include_colab_link": true
    }
  },
  "nbformat": 4,
  "nbformat_minor": 0
}
{
  "cells": [
    {
      "cell_type": "markdown",
      "metadata": {
        "id": "view-in-github",
        "colab_type": "text"
      },
      "source": [
        "<a href=\"https://colab.research.google.com/github/MientusJJ/Python-Exercises/blob/main/Kopia_notatnika_Z10_E_Regression.ipynb\" target=\"_parent\"><img src=\"https://colab.research.google.com/assets/colab-badge.svg\" alt=\"Open In Colab\"/></a>"
      ]
    },
    {
      "cell_type": "code",
      "execution_count": null,
      "metadata": {
        "id": "Fn1Nb-D2DYJj",
        "outputId": "b43b9269-0c48-432f-9cd0-8242a921b0e4",
        "colab": {
          "base_uri": "https://localhost:8080/"
        }
      },
      "outputs": [
        {
          "output_type": "stream",
          "name": "stdout",
          "text": [
            "2.12.0\n",
            "2.12.0\n"
          ]
        }
      ],
      "source": [
        "import tensorflow as tf\n",
        "from tensorflow import keras\n",
        "print(tf.__version__)\n",
        "\n",
        "print(keras.__version__)"
      ]
    },
    {
      "cell_type": "code",
      "execution_count": null,
      "metadata": {
        "id": "QezA27XBDYJ3"
      },
      "outputs": [],
      "source": [
        "import numpy as np\n",
        "import pandas as pd\n",
        "import matplotlib.pyplot as plt\n",
        "import os"
      ]
    },
    {
      "cell_type": "code",
      "execution_count": null,
      "metadata": {
        "id": "afqHlo29DYJ5"
      },
      "outputs": [],
      "source": [
        "from sklearn.datasets import fetch_california_housing\n",
        "from sklearn.model_selection import train_test_split\n",
        "from sklearn.preprocessing import StandardScaler\n",
        "\n",
        "housing = fetch_california_housing()\n",
        "\n",
        "X_train_full, X_test, y_train_full, y_test = train_test_split(housing.data, housing.target, random_state=42)\n",
        "X_train, X_valid, y_train, y_valid = train_test_split(X_train_full, y_train_full, random_state=42)\n",
        "\n"
      ]
    },
    {
      "cell_type": "code",
      "execution_count": null,
      "metadata": {
        "id": "aNiNl_g_DYJ-"
      },
      "outputs": [],
      "source": [
        "np.random.seed(42)\n",
        "tf.random.set_seed(42)"
      ]
    },
    {
      "cell_type": "code",
      "execution_count": null,
      "metadata": {
        "id": "nOvStP9zDYKB",
        "outputId": "02a96e7b-c3da-42ca-aa49-ec859a3f9d9f",
        "colab": {
          "base_uri": "https://localhost:8080/"
        }
      },
      "outputs": [
        {
          "output_type": "stream",
          "name": "stderr",
          "text": [
            "WARNING:absl:`lr` is deprecated in Keras optimizer, please use `learning_rate` or use the legacy optimizer, e.g.,tf.keras.optimizers.legacy.SGD.\n"
          ]
        },
        {
          "output_type": "stream",
          "name": "stdout",
          "text": [
            "Epoch 1/20\n",
            "363/363 [==============================] - 1s 2ms/step - loss: 1200023345790189568.0000 - val_loss: 46663200768.0000\n",
            "Epoch 2/20\n",
            "363/363 [==============================] - 1s 4ms/step - loss: 3247853056.0000 - val_loss: 19932.5254\n",
            "Epoch 3/20\n",
            "363/363 [==============================] - 1s 3ms/step - loss: 1387.2561 - val_loss: 1.3324\n",
            "Epoch 4/20\n",
            "363/363 [==============================] - 1s 4ms/step - loss: 1.3414 - val_loss: 1.3173\n",
            "Epoch 5/20\n",
            "363/363 [==============================] - 1s 3ms/step - loss: 1.3408 - val_loss: 1.3158\n",
            "Epoch 6/20\n",
            "363/363 [==============================] - 2s 5ms/step - loss: 1.3409 - val_loss: 1.3184\n",
            "Epoch 7/20\n",
            "363/363 [==============================] - 2s 6ms/step - loss: 1.3408 - val_loss: 1.3165\n",
            "Epoch 8/20\n",
            "363/363 [==============================] - 2s 5ms/step - loss: 1.3409 - val_loss: 1.3166\n",
            "Epoch 9/20\n",
            "363/363 [==============================] - 1s 4ms/step - loss: 1.3410 - val_loss: 1.3179\n",
            "Epoch 10/20\n",
            "363/363 [==============================] - 1s 2ms/step - loss: 1.3406 - val_loss: 1.3149\n",
            "Epoch 11/20\n",
            "363/363 [==============================] - 1s 2ms/step - loss: 1.3412 - val_loss: 1.3160\n",
            "Epoch 12/20\n",
            "363/363 [==============================] - 1s 2ms/step - loss: 1.3409 - val_loss: 1.3158\n",
            "Epoch 13/20\n",
            "363/363 [==============================] - 1s 2ms/step - loss: 1.3406 - val_loss: 1.3195\n",
            "Epoch 14/20\n",
            "363/363 [==============================] - 1s 2ms/step - loss: 1.3408 - val_loss: 1.3188\n",
            "Epoch 15/20\n",
            "363/363 [==============================] - 1s 2ms/step - loss: 1.3408 - val_loss: 1.3165\n",
            "Epoch 16/20\n",
            "363/363 [==============================] - 1s 2ms/step - loss: 1.3407 - val_loss: 1.3165\n",
            "Epoch 17/20\n",
            "363/363 [==============================] - 1s 2ms/step - loss: 1.3409 - val_loss: 1.3189\n",
            "Epoch 18/20\n",
            "363/363 [==============================] - 1s 2ms/step - loss: 1.3407 - val_loss: 1.3152\n",
            "Epoch 19/20\n",
            "363/363 [==============================] - 1s 2ms/step - loss: 1.3405 - val_loss: 1.3187\n",
            "Epoch 20/20\n",
            "363/363 [==============================] - 1s 3ms/step - loss: 1.3410 - val_loss: 1.3172\n",
            "162/162 [==============================] - 0s 1ms/step - loss: 1.3236\n",
            "1/1 [==============================] - 0s 86ms/step\n"
          ]
        }
      ],
      "source": [
        "model = keras.models.Sequential([\n",
        "    keras.layers.Dense(30, activation=\"relu\", input_shape=X_train.shape[1:]),\n",
        "    keras.layers.Dense(1)\n",
        "])\n",
        "model.compile(loss=\"mean_squared_error\", optimizer=keras.optimizers.SGD(lr=1e-3))\n",
        "history = model.fit(X_train, y_train, epochs=20, validation_data=(X_valid, y_valid))\n",
        "mse_test = model.evaluate(X_test, y_test)\n",
        "X_new = X_test[:3]\n",
        "y_pred = model.predict(X_new)"
      ]
    },
    {
      "cell_type": "code",
      "execution_count": null,
      "metadata": {
        "id": "vdxIsUGJDYKD",
        "outputId": "8d1b2609-1064-4d16-81be-ed23e3d28d39",
        "colab": {
          "base_uri": "https://localhost:8080/",
          "height": 445
        }
      },
      "outputs": [
        {
          "output_type": "display_data",
          "data": {
            "text/plain": [
              "<Figure size 640x480 with 1 Axes>"
            ],
            "image/png": "[encoded data removed]"
          },
          "metadata": {}
        }
      ],
      "source": [
        "plt.plot(pd.DataFrame(history.history))\n",
        "plt.grid(True)\n",
        "plt.show()"
      ]
    },
    {
      "cell_type": "markdown",
      "metadata": {
        "id": "K-1ikebQDYKG"
      },
      "source": [
        "# Zad\n",
        "\n",
        "Porównaj powyższy wynik z nauką na danych znormalizowanych."
      ]
    },
    {
      "cell_type": "code",
      "execution_count": null,
      "metadata": {
        "id": "uMes6nYQDYKK",
        "colab": {
          "base_uri": "https://localhost:8080/"
        },
        "outputId": "f05423c4-6419-49a7-fdbd-10e4d73bd26c"
      },
      "outputs": [
        {
          "output_type": "stream",
          "name": "stdout",
          "text": [
            "(11610, 8)\n"
          ]
        },
        {
          "output_type": "execute_result",
          "data": {
            "text/plain": [
              "(5160, 8)"
            ]
          },
          "metadata": {},
          "execution_count": 7
        }
      ],
      "source": [
        "from sklearn.preprocessing import StandardScaler\n",
        "sc = StandardScaler()\n",
        "X_train2 = sc.fit_transform(X_train)\n",
        "X_test2 = sc.transform(X_test)\n",
        "\n",
        "print(X_train2.shape)\n",
        "X_test2.shape"
      ]
    },
    {
      "cell_type": "code",
      "execution_count": null,
      "metadata": {
        "id": "lMPjMpf4DYKO",
        "outputId": "95ca3323-490c-4c86-837d-4b2d47b7be71",
        "colab": {
          "base_uri": "https://localhost:8080/"
        }
      },
      "outputs": [
        {
          "output_type": "stream",
          "name": "stderr",
          "text": [
            "WARNING:absl:`lr` is deprecated in Keras optimizer, please use `learning_rate` or use the legacy optimizer, e.g.,tf.keras.optimizers.legacy.SGD.\n"
          ]
        },
        {
          "output_type": "stream",
          "name": "stdout",
          "text": [
            "Epoch 1/20\n",
            "363/363 [==============================] - 2s 5ms/step - loss: 0.7326 - val_loss: 116353.6172\n",
            "Epoch 2/20\n",
            "363/363 [==============================] - 1s 2ms/step - loss: 0.4579 - val_loss: 65943.0469\n",
            "Epoch 3/20\n",
            "363/363 [==============================] - 1s 2ms/step - loss: 0.4381 - val_loss: 52613.7812\n",
            "Epoch 4/20\n",
            "363/363 [==============================] - 1s 2ms/step - loss: 0.4247 - val_loss: 83502.7812\n",
            "Epoch 5/20\n",
            "363/363 [==============================] - 1s 2ms/step - loss: 0.4422 - val_loss: 106469.0859\n",
            "Epoch 6/20\n",
            "363/363 [==============================] - 1s 3ms/step - loss: 0.4893 - val_loss: 3904.8877\n",
            "Epoch 7/20\n",
            "363/363 [==============================] - 1s 3ms/step - loss: 0.4006 - val_loss: 2937.2715\n",
            "Epoch 8/20\n",
            "363/363 [==============================] - 1s 3ms/step - loss: 0.3840 - val_loss: 5737.8345\n",
            "Epoch 9/20\n",
            "363/363 [==============================] - 1s 2ms/step - loss: 0.3778 - val_loss: 8777.0605\n",
            "Epoch 10/20\n",
            "363/363 [==============================] - 1s 2ms/step - loss: 0.3745 - val_loss: 9731.4150\n",
            "Epoch 11/20\n",
            "363/363 [==============================] - 1s 2ms/step - loss: 0.3754 - val_loss: 17213.7656\n",
            "Epoch 12/20\n",
            "363/363 [==============================] - 1s 2ms/step - loss: 0.3735 - val_loss: 22895.5430\n",
            "Epoch 13/20\n",
            "363/363 [==============================] - 1s 2ms/step - loss: 0.3690 - val_loss: 22797.4219\n",
            "Epoch 14/20\n",
            "363/363 [==============================] - 1s 3ms/step - loss: 0.3704 - val_loss: 27846.4141\n",
            "Epoch 15/20\n",
            "363/363 [==============================] - 2s 4ms/step - loss: 0.3702 - val_loss: 45439.0000\n",
            "Epoch 16/20\n",
            "363/363 [==============================] - 1s 3ms/step - loss: 0.3658 - val_loss: 29239.5410\n",
            "Epoch 17/20\n",
            "363/363 [==============================] - 1s 3ms/step - loss: 0.3653 - val_loss: 60617.8398\n",
            "Epoch 18/20\n",
            "363/363 [==============================] - 1s 3ms/step - loss: 0.3568 - val_loss: 50102.3320\n",
            "Epoch 19/20\n",
            "363/363 [==============================] - 1s 2ms/step - loss: 0.3744 - val_loss: 73760.4453\n",
            "Epoch 20/20\n",
            "363/363 [==============================] - 1s 3ms/step - loss: 0.3557 - val_loss: 56170.9453\n",
            "162/162 [==============================] - 0s 2ms/step - loss: 0.3470\n",
            "1/1 [==============================] - 0s 76ms/step\n"
          ]
        }
      ],
      "source": [
        "\n",
        "\n",
        "model = keras.models.Sequential([\n",
        "    keras.layers.Dense(30, activation=\"relu\", input_shape=X_train2.shape[1:]),\n",
        "    keras.layers.Dense(1)\n",
        "])\n",
        "model.compile(loss=\"mean_squared_error\", optimizer=keras.optimizers.SGD(lr=1e-3))\n",
        "history = model.fit(X_train2, y_train, epochs=20, validation_data=(X_valid, y_valid))\n",
        "mse_test = model.evaluate(X_test2, y_test)\n",
        "X_new = X_test2[:3]\n",
        "y_pred = model.predict(X_new)\n",
        "\n"
      ]
    },
    {
      "cell_type": "markdown",
      "metadata": {
        "id": "bzGzRqR6DYKU"
      },
      "source": [
        "# Dane zawsze muszą być przeskalowane"
      ]
    },
    {
      "cell_type": "code",
      "execution_count": null,
      "metadata": {
        "id": "ekLGMBNODYKZ",
        "colab": {
          "base_uri": "https://localhost:8080/",
          "height": 430
        },
        "outputId": "d911108c-b15b-4a3b-fdc8-e5f130ed3a1d"
      },
      "outputs": [
        {
          "output_type": "display_data",
          "data": {
            "text/plain": [
              "<Figure size 640x480 with 1 Axes>"
            ],
            "image/png": "[encoded data removed]"
          },
          "metadata": {}
        }
      ],
      "source": [
        "plt.plot(pd.DataFrame(history.history))\n",
        "plt.grid(True)\n",
        "plt.show()"
      ]
    }
  ],
  "metadata": {
    "kernelspec": {
      "display_name": "Python 3",
      "language": "python",
      "name": "python3"
    },
    "language_info": {
      "codemirror_mode": {
        "name": "ipython",
        "version": 3
      },
      "file_extension": ".py",
      "mimetype": "text/x-python",
      "name": "python",
      "nbconvert_exporter": "python",
      "pygments_lexer": "ipython3",
      "version": "3.7.3"
    },
    "colab": {
      "provenance": [],
      "include_colab_link": true
    }
  },
  "nbformat": 4,
  "nbformat_minor": 0
}
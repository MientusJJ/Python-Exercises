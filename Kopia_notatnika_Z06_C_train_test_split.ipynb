{
  "cells": [
    {
      "cell_type": "markdown",
      "metadata": {
        "id": "view-in-github",
        "colab_type": "text"
      },
      "source": [
        "<a href=\"https://colab.research.google.com/github/MientusJJ/Python-Exercises/blob/main/Kopia_notatnika_Z06_C_train_test_split.ipynb\" target=\"_parent\"><img src=\"https://colab.research.google.com/assets/colab-badge.svg\" alt=\"Open In Colab\"/></a>"
      ]
    },
    {
      "cell_type": "markdown",
      "metadata": {
        "id": "hRWlApwdrC45"
      },
      "source": [
        "# Train test split\n"
      ]
    },
    {
      "cell_type": "code",
      "execution_count": null,
      "metadata": {
        "collapsed": true,
        "id": "NXjh43yKrC48"
      },
      "outputs": [],
      "source": [
        "import numpy as np\n",
        "import pandas as pd\n",
        "import scipy.stats as stats\n",
        "import sklearn.linear_model as lm\n",
        "from sklearn import datasets, linear_model\n",
        "import matplotlib.pyplot as plt\n",
        "\n",
        "from sklearn.preprocessing import PolynomialFeatures\n",
        "from sklearn.pipeline import make_pipeline\n",
        "\n",
        "from sklearn import  metrics"
      ]
    },
    {
      "cell_type": "markdown",
      "metadata": {
        "id": "F7L6Q_G3rC4-"
      },
      "source": [
        "Rozważmy następujący zbiór punktów:"
      ]
    },
    {
      "cell_type": "code",
      "execution_count": null,
      "metadata": {
        "id": "bBT6Shm8rC5A",
        "outputId": "9bc370de-7331-424b-b6ce-46e4fd5c65ab",
        "colab": {
          "base_uri": "https://localhost:8080/",
          "height": 430
        }
      },
      "outputs": [
        {
          "output_type": "display_data",
          "data": {
            "text/plain": [
              "<Figure size 640x480 with 1 Axes>"
            ],
            "image/png": "[encoded data removed]"
          },
          "metadata": {}
        }
      ],
      "source": [
        "x = stats.uniform(0,3).rvs(100)\n",
        "f = lambda x: ((x*2-1)*(x**2-2)*(x-2)+3)\n",
        "y = f(x) + stats.norm(0,0.3).rvs(len(x))\n",
        "plt.plot(x, y, 'ok', ms=10);\n",
        "plt.show()"
      ]
    },
    {
      "cell_type": "markdown",
      "metadata": {
        "id": "VETPqiYZrC5C"
      },
      "source": [
        "# Przykład\n",
        "Podziel zbiór danych na część testową i treningową. \n",
        "Naucz model na części treningowej i ocen wyniki na części testowej."
      ]
    },
    {
      "cell_type": "code",
      "execution_count": null,
      "metadata": {
        "id": "D8eFc1DKrC5C",
        "outputId": "28dfbe8c-c2d8-4b1f-af7e-ef4f07663cfe",
        "colab": {
          "base_uri": "https://localhost:8080/"
        }
      },
      "outputs": [
        {
          "output_type": "stream",
          "name": "stdout",
          "text": [
            "(60,) (60,)\n",
            "(40,) (40,)\n"
          ]
        }
      ],
      "source": [
        "from sklearn.model_selection import train_test_split\n",
        "X_train, X_test, y_train, y_test = train_test_split(x, y, test_size=0.4, random_state=0)\n",
        "\n",
        "print(X_train.shape, y_train.shape)\n",
        "print(X_test.shape, y_test.shape)"
      ]
    },
    {
      "cell_type": "code",
      "execution_count": null,
      "metadata": {
        "collapsed": true,
        "id": "k5amvac5rC5E"
      },
      "outputs": [],
      "source": [
        "X_train=np.vstack(X_train)\n",
        "X_test=np.vstack(X_test)"
      ]
    },
    {
      "cell_type": "code",
      "execution_count": null,
      "metadata": {
        "id": "4SkUrcNGrC5F",
        "outputId": "7b20900c-f2d8-4c40-efd2-4572fd8edd0b",
        "colab": {
          "base_uri": "https://localhost:8080/"
        }
      },
      "outputs": [
        {
          "output_type": "execute_result",
          "data": {
            "text/plain": [
              "array([ 2.06176393e+01,  4.10666364e+00,  1.86583167e-01, -4.89002394e-02,\n",
              "        9.75515897e+00,  3.67007961e-01,  1.69511230e+01,  6.67913273e+00,\n",
              "        3.00399825e+00,  3.09946905e+00,  3.46398496e+00,  2.05289583e+01,\n",
              "        3.09206587e-01, -1.08007075e-01,  1.33421126e-02,  9.22118738e+00,\n",
              "        2.44201938e+01,  1.64893226e+01,  4.04227988e+00,  5.09180732e-01,\n",
              "       -1.08368304e-01,  5.69774803e-01,  1.35596090e+00,  2.44017991e+00,\n",
              "        1.52574340e+01,  6.76376136e+00,  1.43794752e+01,  2.25234142e+00,\n",
              "       -6.52141364e-02,  1.84343438e+00,  1.39755020e+00,  2.39391069e+01,\n",
              "        1.44476891e+01,  5.87478899e-01,  2.60205414e+00,  1.17088867e+01,\n",
              "        6.94340407e+00,  1.86753798e+01,  5.80252497e+00,  1.20557875e+00])"
            ]
          },
          "metadata": {},
          "execution_count": 5
        }
      ],
      "source": [
        "model2 = make_pipeline(PolynomialFeatures(2), linear_model.LinearRegression())\n",
        "model2.fit(X_train, y_train)\n",
        "model2.predict(X_test)"
      ]
    },
    {
      "cell_type": "code",
      "execution_count": null,
      "metadata": {
        "id": "5NDO60KOrC5G",
        "outputId": "513ea5ed-58e0-45dc-b889-c9bafe659851",
        "colab": {
          "base_uri": "https://localhost:8080/"
        }
      },
      "outputs": [
        {
          "output_type": "stream",
          "name": "stdout",
          "text": [
            "Explained variance score: 0.8131609242137343\n",
            "Explained variance score: 0.8131609242137343\n",
            "Median absolute error: 2.899910106525932\n",
            "Mean squared error: 16.36260769602818\n",
            "Mean absolute errors: 3.1278369641572423\n"
          ]
        }
      ],
      "source": [
        "print(\"Explained variance score: {}\".format( metrics.explained_variance_score(y_test, model2.predict(X_test)) ))\n",
        "print(\"Explained variance score: {}\".format( metrics.explained_variance_score(y_test, model2.predict(X_test)) ))\n",
        "print(\"Median absolute error: {}\".format( metrics.median_absolute_error(y_test, model2.predict(X_test)) ))\n",
        "print(\"Mean squared error: {}\".format( metrics.mean_squared_error(y_test, model2.predict(X_test)) ))\n",
        "print(\"Mean absolute errors: {}\".format(metrics.mean_absolute_error(y_test, model2.predict(X_test)) ))"
      ]
    },
    {
      "cell_type": "markdown",
      "metadata": {
        "id": "4s3S4VqMrC5K"
      },
      "source": [
        "# Zadanie\n",
        "Wylicz powyższe miary na zbiorze testowym dla wszystkich modeli nauczonych na trainie:\n",
        "\n",
        "- regrsji linowej\n",
        "- regrsji wielomianowej stopnia 2\n",
        "- regrsji wielomianowej stopnia 3\n",
        "- regrsji wielomianowej stopnia 4\n",
        "- regrsji wielomianowej stopnia 5\n",
        "- regrsji wielomianowej stopnia 25"
      ]
    },
    {
      "cell_type": "code",
      "execution_count": null,
      "metadata": {
        "collapsed": true,
        "id": "h1kb0a23rC5K",
        "colab": {
          "base_uri": "https://localhost:8080/"
        },
        "outputId": "8afc614c-70c5-4c65-d6bd-570f16e873ed"
      },
      "outputs": [
        {
          "output_type": "execute_result",
          "data": {
            "text/plain": [
              "array([25.34406092,  1.20453655,  2.87047012,  4.2633929 ,  6.54368688,\n",
              "        4.60520908, 17.83988193, -3.17098193,  2.69279307,  2.57517147,\n",
              "        1.69502335, 25.15027184,  4.59201908,  4.04401685,  3.22371413,\n",
              "        5.91802651, 34.18931093, 16.97162126,  1.86477034,  4.61530877,\n",
              "        4.0414693 ,  2.37741522,  4.28762789,  3.3378325 , 14.74465318,\n",
              "        3.49835429, 13.23918658,  1.60314089,  3.46718335,  1.67058632,\n",
              "        4.25998461, 33.01398306, 13.3536564 ,  2.35977295,  1.58843057,\n",
              "        9.10536847, -3.68026039, 21.23683431,  2.78059283,  4.38029198])"
            ]
          },
          "metadata": {},
          "execution_count": 7
        }
      ],
      "source": [
        "model3 = make_pipeline(PolynomialFeatures(3), linear_model.LinearRegression())\n",
        "model3.fit(X_train, y_train)\n",
        "model3.predict(X_test)"
      ]
    },
    {
      "cell_type": "code",
      "source": [
        "print(\"Explained variance score: {}\".format( metrics.explained_variance_score(y_test, model3.predict(X_test)) ))\n",
        "print(\"Explained variance score: {}\".format( metrics.explained_variance_score(y_test, model3.predict(X_test)) ))\n",
        "print(\"Median absolute error: {}\".format( metrics.median_absolute_error(y_test, model3.predict(X_test)) ))\n",
        "print(\"Mean squared error: {}\".format( metrics.mean_squared_error(y_test, model3.predict(X_test)) ))\n",
        "print(\"Mean absolute errors: {}\".format(metrics.mean_absolute_error(y_test, model3.predict(X_test)) ))\n"
      ],
      "metadata": {
        "colab": {
          "base_uri": "https://localhost:8080/"
        },
        "id": "bc6ai7YWy40v",
        "outputId": "c4b51655-eb3a-431c-f045-0d039c17ba0c"
      },
      "execution_count": null,
      "outputs": [
        {
          "output_type": "stream",
          "name": "stdout",
          "text": [
            "Explained variance score: 0.9890289547390174\n",
            "Explained variance score: 0.9890289547390174\n",
            "Median absolute error: 0.625311957155533\n",
            "Mean squared error: 0.9214501460536543\n",
            "Mean absolute errors: 0.7414272073540608\n"
          ]
        }
      ]
    },
    {
      "cell_type": "code",
      "source": [
        "model4 = make_pipeline(PolynomialFeatures(4), linear_model.LinearRegression())\n",
        "model4.fit(X_train, y_train)\n",
        "model4.predict(X_test)"
      ],
      "metadata": {
        "colab": {
          "base_uri": "https://localhost:8080/"
        },
        "id": "LRRHcrGcy5fe",
        "outputId": "5c71e132-ee17-4e29-c71a-8747f1da1df7"
      },
      "execution_count": null,
      "outputs": [
        {
          "output_type": "execute_result",
          "data": {
            "text/plain": [
              "array([25.68751159,  1.13600191,  3.45518241,  3.92046797,  5.93570121,\n",
              "        3.75903575, 17.2088966 , -0.55500706,  1.92685463,  1.85748665,\n",
              "        2.37711847, 25.4612691 ,  3.78988576,  3.9004119 ,  3.6305276 ,\n",
              "        5.39414014, 36.36187067, 16.26938129,  2.4310907 ,  3.67807212,\n",
              "        3.89998609,  3.15909082,  3.11964932,  2.33800789, 13.90552582,\n",
              "        3.45635346, 12.34815475,  2.47062922,  3.73308254,  2.57093815,\n",
              "        3.09041105, 34.90688636, 12.46533576,  3.14729167,  2.41347215,\n",
              "        8.27259984, -0.71252604, 20.9717801 ,  2.95444935,  3.22445049])"
            ]
          },
          "metadata": {},
          "execution_count": 9
        }
      ]
    },
    {
      "cell_type": "code",
      "source": [
        "print(\"Explained variance score: {}\".format( metrics.explained_variance_score(y_test, model4.predict(X_test)) ))\n",
        "print(\"Explained variance score: {}\".format( metrics.explained_variance_score(y_test, model4.predict(X_test)) ))\n",
        "print(\"Median absolute error: {}\".format( metrics.median_absolute_error(y_test, model4.predict(X_test)) ))\n",
        "print(\"Mean squared error: {}\".format( metrics.mean_squared_error(y_test, model4.predict(X_test)) ))\n",
        "print(\"Mean absolute errors: {}\".format(metrics.mean_absolute_error(y_test, model4.predict(X_test)) ))\n"
      ],
      "metadata": {
        "colab": {
          "base_uri": "https://localhost:8080/"
        },
        "id": "1KmzjMNdzB7Q",
        "outputId": "d382443b-8aef-4528-bf7e-9204ce863fcd"
      },
      "execution_count": null,
      "outputs": [
        {
          "output_type": "stream",
          "name": "stdout",
          "text": [
            "Explained variance score: 0.9991380506683005\n",
            "Explained variance score: 0.9991380506683005\n",
            "Median absolute error: 0.20190979485339078\n",
            "Mean squared error: 0.0733245191867429\n",
            "Mean absolute errors: 0.2337908358593499\n"
          ]
        }
      ]
    },
    {
      "cell_type": "code",
      "source": [
        "model5 = make_pipeline(PolynomialFeatures(5), linear_model.LinearRegression())\n",
        "model5.fit(X_train, y_train)\n",
        "model5.predict(X_test)"
      ],
      "metadata": {
        "colab": {
          "base_uri": "https://localhost:8080/"
        },
        "id": "y6ANGfNPzCWy",
        "outputId": "badb3aa3-70a7-470c-b244-f2f58f983825"
      },
      "execution_count": null,
      "outputs": [
        {
          "output_type": "execute_result",
          "data": {
            "text/plain": [
              "array([25.68454172,  1.14073098,  3.45037313,  3.91594119,  5.93641777,\n",
              "        3.75793347, 17.20181537, -0.57160118,  1.93418227,  1.86473701,\n",
              "        2.38117592, 25.45809377,  3.78836456,  3.89517088,  3.62506917,\n",
              "        5.39564533, 36.37387114, 16.26233017,  2.43570658,  3.67794891,\n",
              "        3.89473919,  3.15581665,  3.12407087,  2.34523489, 13.89902055,\n",
              "        3.46071892, 12.34239199,  2.47260776,  3.7274049 ,  2.57190499,\n",
              "        3.0950024 , 34.91626998, 12.45950621,  3.14408704,  2.41618685,\n",
              "        8.27031024, -0.73258158, 20.96558407,  2.9593633 ,  3.22821693])"
            ]
          },
          "metadata": {},
          "execution_count": 12
        }
      ]
    },
    {
      "cell_type": "code",
      "source": [
        "print(\"Explained variance score: {}\".format( metrics.explained_variance_score(y_test, model5.predict(X_test)) ))\n",
        "print(\"Explained variance score: {}\".format( metrics.explained_variance_score(y_test, model5.predict(X_test)) ))\n",
        "print(\"Median absolute error: {}\".format( metrics.median_absolute_error(y_test, model5.predict(X_test)) ))\n",
        "print(\"Mean squared error: {}\".format( metrics.mean_squared_error(y_test, model5.predict(X_test)) ))\n",
        "print(\"Mean absolute errors: {}\".format(metrics.mean_absolute_error(y_test, model5.predict(X_test)) ))\n"
      ],
      "metadata": {
        "colab": {
          "base_uri": "https://localhost:8080/"
        },
        "id": "vgdPN_DVzCzH",
        "outputId": "4fdedd6d-1bbf-4c26-f507-369ac5ba21bd"
      },
      "execution_count": null,
      "outputs": [
        {
          "output_type": "stream",
          "name": "stdout",
          "text": [
            "Explained variance score: 0.9991537164543268\n",
            "Explained variance score: 0.9991537164543268\n",
            "Median absolute error: 0.20304831295400838\n",
            "Mean squared error: 0.07208873514175987\n",
            "Mean absolute errors: 0.2321242111557234\n"
          ]
        }
      ]
    },
    {
      "cell_type": "code",
      "source": [
        "model25 = make_pipeline(PolynomialFeatures(25), linear_model.LinearRegression())\n",
        "model25.fit(X_train, y_train)\n",
        "model25.predict(X_test)"
      ],
      "metadata": {
        "colab": {
          "base_uri": "https://localhost:8080/"
        },
        "id": "QfPc78zbzC8X",
        "outputId": "1ced3b97-adab-4d17-b827-85c1675a8082"
      },
      "execution_count": null,
      "outputs": [
        {
          "output_type": "execute_result",
          "data": {
            "text/plain": [
              "array([25.60549628,  1.13988276,  3.51109675,  3.70106198,  5.96817625,\n",
              "        3.77262822, 17.54129397, -0.85174093,  1.84628032,  1.77990369,\n",
              "        2.59803929, 25.3323835 ,  3.77984197,  3.65869787,  3.59741576,\n",
              "        5.38429585, 35.63620554, 16.658486  ,  2.67637736,  3.73636416,\n",
              "        3.65834332,  3.22122595,  3.18351956,  2.26770038, 14.20062314,\n",
              "        3.30599984, 12.47332488,  2.46924858,  3.61994995,  2.50972121,\n",
              "        3.14860673, 33.27160632, 12.60350429,  3.20666778,  2.4833479 ,\n",
              "        8.26604045, -1.15616569, 20.74274479,  2.93660867,  3.30669377])"
            ]
          },
          "metadata": {},
          "execution_count": 14
        }
      ]
    },
    {
      "cell_type": "code",
      "source": [
        "print(\"Explained variance score: {}\".format( metrics.explained_variance_score(y_test, model25.predict(X_test)) ))\n",
        "print(\"Explained variance score: {}\".format( metrics.explained_variance_score(y_test, model25.predict(X_test)) ))\n",
        "print(\"Median absolute error: {}\".format( metrics.median_absolute_error(y_test, model25.predict(X_test)) ))\n",
        "print(\"Mean squared error: {}\".format( metrics.mean_squared_error(y_test, model25.predict(X_test)) ))\n",
        "print(\"Mean absolute errors: {}\".format(metrics.mean_absolute_error(y_test, model25.predict(X_test)) ))\n"
      ],
      "metadata": {
        "colab": {
          "base_uri": "https://localhost:8080/"
        },
        "id": "yOF0sPDUzDHm",
        "outputId": "ee38b903-4643-416a-dfdc-1029dda612b8"
      },
      "execution_count": null,
      "outputs": [
        {
          "output_type": "stream",
          "name": "stdout",
          "text": [
            "Explained variance score: 0.9980592768554617\n",
            "Explained variance score: 0.9980592768554617\n",
            "Median absolute error: 0.2486254618538638\n",
            "Mean squared error: 0.1722888094583342\n",
            "Mean absolute errors: 0.3029028647693214\n"
          ]
        }
      ]
    }
  ],
  "metadata": {
    "kernelspec": {
      "display_name": "Python 3",
      "language": "python",
      "name": "python3"
    },
    "language_info": {
      "codemirror_mode": {
        "name": "ipython",
        "version": 3
      },
      "file_extension": ".py",
      "mimetype": "text/x-python",
      "name": "python",
      "nbconvert_exporter": "python",
      "pygments_lexer": "ipython3",
      "version": "3.8.5"
    },
    "colab": {
      "provenance": [],
      "include_colab_link": true
    }
  },
  "nbformat": 4,
  "nbformat_minor": 0
}